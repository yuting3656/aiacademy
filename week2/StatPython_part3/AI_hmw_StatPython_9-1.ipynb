{
 "cells": [
  {
   "cell_type": "markdown",
   "metadata": {},
   "source": [
    "## 配合課程影片 hmwu_StatR-09.1\n",
    "### Exercise 9-1"
   ]
  },
  {
   "cell_type": "code",
   "execution_count": 1,
   "metadata": {},
   "outputs": [],
   "source": [
    "import scipy.stats as stats\n",
    "import matplotlib.pyplot as plt\n",
    "import pandas as pd\n",
    "import numpy as np\n",
    "%matplotlib inline"
   ]
  },
  {
   "cell_type": "code",
   "execution_count": 2,
   "metadata": {},
   "outputs": [
    {
     "data": {
      "text/plain": [
       "{'Number_of_classifier': 1, 'at_least_one_accuracy': 0.5}"
      ]
     },
     "execution_count": 2,
     "metadata": {},
     "output_type": "execute_result"
    }
   ],
   "source": [
    "# 請完成自定義函數 prediction_accuracy_rate：\n",
    "# Hint: at_least_one_accuracy 為至少有一個預測正確的機率 \n",
    "\n",
    "def prediction_accuracy_rate(no_classifier, accuracy_rate):\n",
    "    temp = {\"Number_of_classifier\": no_classifier, \"at_least_one_accuracy\": 1 - (1 - accuracy_rate) ** no_classifier}    \n",
    "    return temp\n",
    "\n",
    "prediction_accuracy_rate(no_classifier = 1, accuracy_rate = 0.5)\n"
   ]
  },
  {
   "cell_type": "code",
   "execution_count": 3,
   "metadata": {},
   "outputs": [
    {
     "data": {
      "text/plain": [
       "1"
      ]
     },
     "execution_count": 3,
     "metadata": {},
     "output_type": "execute_result"
    }
   ],
   "source": [
    "prediction_accuracy_rate(no_classifier = 1, accuracy_rate = 0.5)['Number_of_classifier']"
   ]
  },
  {
   "cell_type": "code",
   "execution_count": 4,
   "metadata": {},
   "outputs": [
    {
     "data": {
      "text/html": [
       "<div>\n",
       "<style scoped>\n",
       "    .dataframe tbody tr th:only-of-type {\n",
       "        vertical-align: middle;\n",
       "    }\n",
       "\n",
       "    .dataframe tbody tr th {\n",
       "        vertical-align: top;\n",
       "    }\n",
       "\n",
       "    .dataframe thead th {\n",
       "        text-align: right;\n",
       "    }\n",
       "</style>\n",
       "<table border=\"1\" class=\"dataframe\">\n",
       "  <thead>\n",
       "    <tr style=\"text-align: right;\">\n",
       "      <th></th>\n",
       "      <th>Number_of_classifier</th>\n",
       "      <th>at_least_one_accuracy</th>\n",
       "    </tr>\n",
       "  </thead>\n",
       "  <tbody>\n",
       "    <tr>\n",
       "      <th>0</th>\n",
       "      <td>1</td>\n",
       "      <td>0.500000</td>\n",
       "    </tr>\n",
       "    <tr>\n",
       "      <th>1</th>\n",
       "      <td>2</td>\n",
       "      <td>0.750000</td>\n",
       "    </tr>\n",
       "    <tr>\n",
       "      <th>2</th>\n",
       "      <td>3</td>\n",
       "      <td>0.875000</td>\n",
       "    </tr>\n",
       "    <tr>\n",
       "      <th>3</th>\n",
       "      <td>4</td>\n",
       "      <td>0.937500</td>\n",
       "    </tr>\n",
       "    <tr>\n",
       "      <th>4</th>\n",
       "      <td>5</td>\n",
       "      <td>0.968750</td>\n",
       "    </tr>\n",
       "    <tr>\n",
       "      <th>5</th>\n",
       "      <td>6</td>\n",
       "      <td>0.984375</td>\n",
       "    </tr>\n",
       "    <tr>\n",
       "      <th>6</th>\n",
       "      <td>7</td>\n",
       "      <td>0.992188</td>\n",
       "    </tr>\n",
       "    <tr>\n",
       "      <th>7</th>\n",
       "      <td>8</td>\n",
       "      <td>0.996094</td>\n",
       "    </tr>\n",
       "    <tr>\n",
       "      <th>8</th>\n",
       "      <td>9</td>\n",
       "      <td>0.998047</td>\n",
       "    </tr>\n",
       "    <tr>\n",
       "      <th>9</th>\n",
       "      <td>10</td>\n",
       "      <td>0.999023</td>\n",
       "    </tr>\n",
       "  </tbody>\n",
       "</table>\n",
       "</div>"
      ],
      "text/plain": [
       "   Number_of_classifier  at_least_one_accuracy\n",
       "0                     1               0.500000\n",
       "1                     2               0.750000\n",
       "2                     3               0.875000\n",
       "3                     4               0.937500\n",
       "4                     5               0.968750\n",
       "5                     6               0.984375\n",
       "6                     7               0.992188\n",
       "7                     8               0.996094\n",
       "8                     9               0.998047\n",
       "9                    10               0.999023"
      ]
     },
     "execution_count": 4,
     "metadata": {},
     "output_type": "execute_result"
    }
   ],
   "source": [
    "result = pd.DataFrame({\n",
    "    \"Number_of_classifier\": pd.Series(np.arange(1, 11)).apply(lambda x: prediction_accuracy_rate(x, 0.5)[\"Number_of_classifier\"]),\n",
    "    \"at_least_one_accuracy\": pd.Series(np.arange(1, 11)).apply(lambda x: prediction_accuracy_rate(x, 0.5)[\"at_least_one_accuracy\"])\n",
    "})\n",
    "\n",
    "result"
   ]
  },
  {
   "cell_type": "markdown",
   "metadata": {},
   "source": [
    "## 資料切分"
   ]
  },
  {
   "cell_type": "code",
   "execution_count": 5,
   "metadata": {},
   "outputs": [
    {
     "data": {
      "text/plain": [
       "dict_keys(['data', 'target', 'target_names', 'DESCR', 'feature_names', 'filename'])"
      ]
     },
     "execution_count": 5,
     "metadata": {},
     "output_type": "execute_result"
    }
   ],
   "source": [
    "# 將 iris 資料切分成 Training set + Test set:\n",
    "\n",
    "from sklearn import datasets\n",
    "iris = datasets.load_iris()\n",
    "iris.keys()"
   ]
  },
  {
   "cell_type": "code",
   "execution_count": 6,
   "metadata": {},
   "outputs": [
    {
     "data": {
      "text/plain": [
       "array([[5.1, 3.5, 1.4, 0.2],\n",
       "       [4.9, 3. , 1.4, 0.2],\n",
       "       [4.7, 3.2, 1.3, 0.2],\n",
       "       [4.6, 3.1, 1.5, 0.2],\n",
       "       [5. , 3.6, 1.4, 0.2],\n",
       "       [5.4, 3.9, 1.7, 0.4],\n",
       "       [4.6, 3.4, 1.4, 0.3],\n",
       "       [5. , 3.4, 1.5, 0.2],\n",
       "       [4.4, 2.9, 1.4, 0.2],\n",
       "       [4.9, 3.1, 1.5, 0.1],\n",
       "       [5.4, 3.7, 1.5, 0.2],\n",
       "       [4.8, 3.4, 1.6, 0.2],\n",
       "       [4.8, 3. , 1.4, 0.1],\n",
       "       [4.3, 3. , 1.1, 0.1],\n",
       "       [5.8, 4. , 1.2, 0.2],\n",
       "       [5.7, 4.4, 1.5, 0.4],\n",
       "       [5.4, 3.9, 1.3, 0.4],\n",
       "       [5.1, 3.5, 1.4, 0.3],\n",
       "       [5.7, 3.8, 1.7, 0.3],\n",
       "       [5.1, 3.8, 1.5, 0.3],\n",
       "       [5.4, 3.4, 1.7, 0.2],\n",
       "       [5.1, 3.7, 1.5, 0.4],\n",
       "       [4.6, 3.6, 1. , 0.2],\n",
       "       [5.1, 3.3, 1.7, 0.5],\n",
       "       [4.8, 3.4, 1.9, 0.2],\n",
       "       [5. , 3. , 1.6, 0.2],\n",
       "       [5. , 3.4, 1.6, 0.4],\n",
       "       [5.2, 3.5, 1.5, 0.2],\n",
       "       [5.2, 3.4, 1.4, 0.2],\n",
       "       [4.7, 3.2, 1.6, 0.2],\n",
       "       [4.8, 3.1, 1.6, 0.2],\n",
       "       [5.4, 3.4, 1.5, 0.4],\n",
       "       [5.2, 4.1, 1.5, 0.1],\n",
       "       [5.5, 4.2, 1.4, 0.2],\n",
       "       [4.9, 3.1, 1.5, 0.2],\n",
       "       [5. , 3.2, 1.2, 0.2],\n",
       "       [5.5, 3.5, 1.3, 0.2],\n",
       "       [4.9, 3.6, 1.4, 0.1],\n",
       "       [4.4, 3. , 1.3, 0.2],\n",
       "       [5.1, 3.4, 1.5, 0.2],\n",
       "       [5. , 3.5, 1.3, 0.3],\n",
       "       [4.5, 2.3, 1.3, 0.3],\n",
       "       [4.4, 3.2, 1.3, 0.2],\n",
       "       [5. , 3.5, 1.6, 0.6],\n",
       "       [5.1, 3.8, 1.9, 0.4],\n",
       "       [4.8, 3. , 1.4, 0.3],\n",
       "       [5.1, 3.8, 1.6, 0.2],\n",
       "       [4.6, 3.2, 1.4, 0.2],\n",
       "       [5.3, 3.7, 1.5, 0.2],\n",
       "       [5. , 3.3, 1.4, 0.2],\n",
       "       [7. , 3.2, 4.7, 1.4],\n",
       "       [6.4, 3.2, 4.5, 1.5],\n",
       "       [6.9, 3.1, 4.9, 1.5],\n",
       "       [5.5, 2.3, 4. , 1.3],\n",
       "       [6.5, 2.8, 4.6, 1.5],\n",
       "       [5.7, 2.8, 4.5, 1.3],\n",
       "       [6.3, 3.3, 4.7, 1.6],\n",
       "       [4.9, 2.4, 3.3, 1. ],\n",
       "       [6.6, 2.9, 4.6, 1.3],\n",
       "       [5.2, 2.7, 3.9, 1.4],\n",
       "       [5. , 2. , 3.5, 1. ],\n",
       "       [5.9, 3. , 4.2, 1.5],\n",
       "       [6. , 2.2, 4. , 1. ],\n",
       "       [6.1, 2.9, 4.7, 1.4],\n",
       "       [5.6, 2.9, 3.6, 1.3],\n",
       "       [6.7, 3.1, 4.4, 1.4],\n",
       "       [5.6, 3. , 4.5, 1.5],\n",
       "       [5.8, 2.7, 4.1, 1. ],\n",
       "       [6.2, 2.2, 4.5, 1.5],\n",
       "       [5.6, 2.5, 3.9, 1.1],\n",
       "       [5.9, 3.2, 4.8, 1.8],\n",
       "       [6.1, 2.8, 4. , 1.3],\n",
       "       [6.3, 2.5, 4.9, 1.5],\n",
       "       [6.1, 2.8, 4.7, 1.2],\n",
       "       [6.4, 2.9, 4.3, 1.3],\n",
       "       [6.6, 3. , 4.4, 1.4],\n",
       "       [6.8, 2.8, 4.8, 1.4],\n",
       "       [6.7, 3. , 5. , 1.7],\n",
       "       [6. , 2.9, 4.5, 1.5],\n",
       "       [5.7, 2.6, 3.5, 1. ],\n",
       "       [5.5, 2.4, 3.8, 1.1],\n",
       "       [5.5, 2.4, 3.7, 1. ],\n",
       "       [5.8, 2.7, 3.9, 1.2],\n",
       "       [6. , 2.7, 5.1, 1.6],\n",
       "       [5.4, 3. , 4.5, 1.5],\n",
       "       [6. , 3.4, 4.5, 1.6],\n",
       "       [6.7, 3.1, 4.7, 1.5],\n",
       "       [6.3, 2.3, 4.4, 1.3],\n",
       "       [5.6, 3. , 4.1, 1.3],\n",
       "       [5.5, 2.5, 4. , 1.3],\n",
       "       [5.5, 2.6, 4.4, 1.2],\n",
       "       [6.1, 3. , 4.6, 1.4],\n",
       "       [5.8, 2.6, 4. , 1.2],\n",
       "       [5. , 2.3, 3.3, 1. ],\n",
       "       [5.6, 2.7, 4.2, 1.3],\n",
       "       [5.7, 3. , 4.2, 1.2],\n",
       "       [5.7, 2.9, 4.2, 1.3],\n",
       "       [6.2, 2.9, 4.3, 1.3],\n",
       "       [5.1, 2.5, 3. , 1.1],\n",
       "       [5.7, 2.8, 4.1, 1.3],\n",
       "       [6.3, 3.3, 6. , 2.5],\n",
       "       [5.8, 2.7, 5.1, 1.9],\n",
       "       [7.1, 3. , 5.9, 2.1],\n",
       "       [6.3, 2.9, 5.6, 1.8],\n",
       "       [6.5, 3. , 5.8, 2.2],\n",
       "       [7.6, 3. , 6.6, 2.1],\n",
       "       [4.9, 2.5, 4.5, 1.7],\n",
       "       [7.3, 2.9, 6.3, 1.8],\n",
       "       [6.7, 2.5, 5.8, 1.8],\n",
       "       [7.2, 3.6, 6.1, 2.5],\n",
       "       [6.5, 3.2, 5.1, 2. ],\n",
       "       [6.4, 2.7, 5.3, 1.9],\n",
       "       [6.8, 3. , 5.5, 2.1],\n",
       "       [5.7, 2.5, 5. , 2. ],\n",
       "       [5.8, 2.8, 5.1, 2.4],\n",
       "       [6.4, 3.2, 5.3, 2.3],\n",
       "       [6.5, 3. , 5.5, 1.8],\n",
       "       [7.7, 3.8, 6.7, 2.2],\n",
       "       [7.7, 2.6, 6.9, 2.3],\n",
       "       [6. , 2.2, 5. , 1.5],\n",
       "       [6.9, 3.2, 5.7, 2.3],\n",
       "       [5.6, 2.8, 4.9, 2. ],\n",
       "       [7.7, 2.8, 6.7, 2. ],\n",
       "       [6.3, 2.7, 4.9, 1.8],\n",
       "       [6.7, 3.3, 5.7, 2.1],\n",
       "       [7.2, 3.2, 6. , 1.8],\n",
       "       [6.2, 2.8, 4.8, 1.8],\n",
       "       [6.1, 3. , 4.9, 1.8],\n",
       "       [6.4, 2.8, 5.6, 2.1],\n",
       "       [7.2, 3. , 5.8, 1.6],\n",
       "       [7.4, 2.8, 6.1, 1.9],\n",
       "       [7.9, 3.8, 6.4, 2. ],\n",
       "       [6.4, 2.8, 5.6, 2.2],\n",
       "       [6.3, 2.8, 5.1, 1.5],\n",
       "       [6.1, 2.6, 5.6, 1.4],\n",
       "       [7.7, 3. , 6.1, 2.3],\n",
       "       [6.3, 3.4, 5.6, 2.4],\n",
       "       [6.4, 3.1, 5.5, 1.8],\n",
       "       [6. , 3. , 4.8, 1.8],\n",
       "       [6.9, 3.1, 5.4, 2.1],\n",
       "       [6.7, 3.1, 5.6, 2.4],\n",
       "       [6.9, 3.1, 5.1, 2.3],\n",
       "       [5.8, 2.7, 5.1, 1.9],\n",
       "       [6.8, 3.2, 5.9, 2.3],\n",
       "       [6.7, 3.3, 5.7, 2.5],\n",
       "       [6.7, 3. , 5.2, 2.3],\n",
       "       [6.3, 2.5, 5. , 1.9],\n",
       "       [6.5, 3. , 5.2, 2. ],\n",
       "       [6.2, 3.4, 5.4, 2.3],\n",
       "       [5.9, 3. , 5.1, 1.8]])"
      ]
     },
     "execution_count": 6,
     "metadata": {},
     "output_type": "execute_result"
    }
   ],
   "source": [
    "iris[\"data\"]"
   ]
  },
  {
   "cell_type": "code",
   "execution_count": 7,
   "metadata": {},
   "outputs": [
    {
     "data": {
      "text/plain": [
       "array([0, 0, 0, 0, 0, 0, 0, 0, 0, 0, 0, 0, 0, 0, 0, 0, 0, 0, 0, 0, 0, 0,\n",
       "       0, 0, 0, 0, 0, 0, 0, 0, 0, 0, 0, 0, 0, 0, 0, 0, 0, 0, 0, 0, 0, 0,\n",
       "       0, 0, 0, 0, 0, 0, 1, 1, 1, 1, 1, 1, 1, 1, 1, 1, 1, 1, 1, 1, 1, 1,\n",
       "       1, 1, 1, 1, 1, 1, 1, 1, 1, 1, 1, 1, 1, 1, 1, 1, 1, 1, 1, 1, 1, 1,\n",
       "       1, 1, 1, 1, 1, 1, 1, 1, 1, 1, 1, 1, 2, 2, 2, 2, 2, 2, 2, 2, 2, 2,\n",
       "       2, 2, 2, 2, 2, 2, 2, 2, 2, 2, 2, 2, 2, 2, 2, 2, 2, 2, 2, 2, 2, 2,\n",
       "       2, 2, 2, 2, 2, 2, 2, 2, 2, 2, 2, 2, 2, 2, 2, 2, 2, 2])"
      ]
     },
     "execution_count": 7,
     "metadata": {},
     "output_type": "execute_result"
    }
   ],
   "source": [
    "iris[\"target\"]"
   ]
  },
  {
   "cell_type": "markdown",
   "metadata": {},
   "source": [
    "### 方法1：利用取後放回的方式，把所有樣本分成2類編號"
   ]
  },
  {
   "cell_type": "code",
   "execution_count": 8,
   "metadata": {},
   "outputs": [
    {
     "data": {
      "text/plain": [
       "150"
      ]
     },
     "execution_count": 8,
     "metadata": {},
     "output_type": "execute_result"
    }
   ],
   "source": [
    "ID = np.random.choice(a = 2, size = len(iris[\"data\"]), replace = True, p = [0.9, 0.1])\n",
    "len(ID)"
   ]
  },
  {
   "cell_type": "code",
   "execution_count": 9,
   "metadata": {},
   "outputs": [
    {
     "data": {
      "text/plain": [
       "array([1, 0, 0, 0, 0, 0, 0, 0, 0, 0, 0, 0, 0, 0, 0, 0, 0, 0, 0, 0, 0, 0,\n",
       "       0, 0, 0, 0, 0, 0, 0, 0, 0, 0, 0, 0, 1, 0, 0, 0, 0, 0, 0, 0, 1, 0,\n",
       "       0, 0, 1, 0, 0, 0, 0, 0, 0, 0, 0, 1, 1, 0, 0, 0, 0, 0, 0, 0, 0, 0,\n",
       "       0, 0, 0, 0, 0, 1, 0, 0, 0, 0, 0, 0, 0, 0, 0, 1, 0, 0, 0, 0, 0, 0,\n",
       "       0, 0, 0, 0, 1, 0, 0, 0, 0, 0, 0, 0, 1, 0, 0, 0, 0, 0, 0, 0, 0, 0,\n",
       "       0, 0, 0, 0, 1, 0, 0, 0, 1, 0, 0, 0, 0, 0, 0, 0, 0, 0, 0, 0, 0, 0,\n",
       "       0, 0, 0, 0, 0, 0, 0, 0, 0, 0, 1, 0, 1, 1, 0, 0, 1, 1])"
      ]
     },
     "execution_count": 9,
     "metadata": {},
     "output_type": "execute_result"
    }
   ],
   "source": [
    "ID"
   ]
  },
  {
   "cell_type": "code",
   "execution_count": 10,
   "metadata": {},
   "outputs": [
    {
     "name": "stdout",
     "output_type": "stream",
     "text": [
      "(133, 4)\n",
      "(133,)\n",
      "(17, 4)\n",
      "(17,)\n"
     ]
    }
   ],
   "source": [
    "# Hint: Training set ID = 0 ; Testing set ID = 1\n",
    "train_data = iris[\"data\"][ID == 0, :]\n",
    "train_target = iris[\"target\"][ID == 0]\n",
    "\n",
    "test_data = iris[\"data\"][ID == 1, :]\n",
    "test_target = iris[\"target\"][ID == 1]\n",
    "\n",
    "print(train_data.shape)\n",
    "print(train_target.shape)\n",
    "print(test_data.shape)\n",
    "print(test_target.shape)"
   ]
  },
  {
   "cell_type": "markdown",
   "metadata": {},
   "source": [
    "### 方法2：利用取後不放回的方式，挑選出需要的樣本 （random index）\n"
   ]
  },
  {
   "cell_type": "code",
   "execution_count": 11,
   "metadata": {},
   "outputs": [],
   "source": [
    "iris_id = np.arange(len(iris[\"data\"]))\n",
    "np.random.shuffle(iris_id)\n",
    "\n",
    "features = iris[\"data\"][iris_id, :]\n",
    "label = iris[\"target\"][iris_id]"
   ]
  },
  {
   "cell_type": "code",
   "execution_count": 12,
   "metadata": {},
   "outputs": [
    {
     "name": "stdout",
     "output_type": "stream",
     "text": [
      "(135, 4)\n",
      "(135,)\n",
      "(15, 4)\n",
      "(15,)\n"
     ]
    }
   ],
   "source": [
    "train_features = features[:int(0.9*len(features))]\n",
    "train_label = label[:int(0.9*len(features))]\n",
    "\n",
    "test_features = features[int(0.9*len(features)):]\n",
    "test_label = label[int(0.9*len(features)):]\n",
    "\n",
    "print(train_features.shape)\n",
    "print(train_label.shape)\n",
    "print(test_features.shape)\n",
    "print(test_label.shape)"
   ]
  },
  {
   "cell_type": "code",
   "execution_count": 13,
   "metadata": {},
   "outputs": [],
   "source": [
    "#a = iris[\"target\"]\n",
    "#a.reshape(150, -1).shape"
   ]
  },
  {
   "cell_type": "markdown",
   "metadata": {},
   "source": [
    "### 方法3: 將 Y 依照 group labels 與切分比例將所有樣本分成2類"
   ]
  },
  {
   "cell_type": "code",
   "execution_count": 14,
   "metadata": {},
   "outputs": [
    {
     "name": "stdout",
     "output_type": "stream",
     "text": [
      "Indexes of Training set: [False  True  True  True  True  True  True  True  True False  True  True\n",
      " False False  True  True  True  True  True  True False False  True  True\n",
      "  True  True  True False  True  True  True  True  True  True  True  True\n",
      "  True  True  True  True  True False  True  True False  True  True  True\n",
      " False  True  True  True False  True  True  True  True  True  True  True\n",
      "  True False  True  True False  True  True  True  True  True  True  True\n",
      "  True  True  True False  True  True  True  True  True  True  True  True\n",
      "  True  True  True  True False False  True  True  True False  True False\n",
      "  True  True False False False  True  True False  True False  True  True\n",
      "  True  True False  True  True  True  True  True  True  True False  True\n",
      "  True  True False  True False  True  True  True  True  True False  True\n",
      "  True  True  True  True  True  True  True  True  True  True  True  True\n",
      " False  True  True  True False  True]\n",
      "(150,)\n"
     ]
    }
   ],
   "source": [
    "def get_train_test_stratified_index(y, SplitRatio):\n",
    "    y = np.array(y)\n",
    "    train_indexes = np.zeros(len(y), dtype = bool)\n",
    "    test_indexes = np.zeros(len(y), dtype = bool)\n",
    "    types = np.unique(iris[\"target\"])\n",
    "\n",
    "    for value in types:\n",
    "        value_indexes = np.nonzero(y == value)[0]\n",
    "        np.random.shuffle(value_indexes)\n",
    "        n = int(SplitRatio * len(value_indexes))\n",
    "        \n",
    "        train_indexes[value_indexes[:n]] = True\n",
    "        test_indexes[value_indexes[n:]] = True\n",
    "        \n",
    "    return train_indexes, test_indexes\n",
    "\n",
    "# Y label 的三種花都以 TRUE : FALSE = 0.8 : 0.2 切分\n",
    "train_indexes, test_indexes = get_train_test_stratified_index(iris[\"target\"], SplitRatio = 0.8)\n",
    "\n",
    "print(\"Indexes of Training set:\", train_indexes)\n",
    "print(train_indexes.shape)"
   ]
  },
  {
   "cell_type": "code",
   "execution_count": 15,
   "metadata": {},
   "outputs": [
    {
     "name": "stdout",
     "output_type": "stream",
     "text": [
      "(120, 4)\n",
      "(120,)\n",
      "(30, 4)\n",
      "(30,)\n"
     ]
    }
   ],
   "source": [
    "train_variables = iris[\"data\"][train_indexes]\n",
    "train_target = iris[\"target\"][train_indexes]\n",
    "\n",
    "test_variables = iris[\"data\"][test_indexes]\n",
    "test_target = iris[\"target\"][test_indexes]\n",
    "\n",
    "print(train_variables.shape)\n",
    "print(train_target.shape)\n",
    "print(test_variables.shape)\n",
    "print(test_target.shape)"
   ]
  },
  {
   "cell_type": "markdown",
   "metadata": {},
   "source": [
    "### Jackknife Estimate the Coefficient of Variation"
   ]
  },
  {
   "cell_type": "code",
   "execution_count": 16,
   "metadata": {},
   "outputs": [
    {
     "data": {
      "text/plain": [
       "array([0.5488135 , 0.71518937, 0.60276338, 0.54488318, 0.4236548 ,\n",
       "       0.64589411, 0.43758721, 0.891773  , 0.96366276, 0.38344152,\n",
       "       0.79172504, 0.52889492, 0.56804456, 0.92559664, 0.07103606,\n",
       "       0.0871293 , 0.0202184 , 0.83261985, 0.77815675, 0.87001215,\n",
       "       0.97861834, 0.79915856, 0.46147936, 0.78052918, 0.11827443,\n",
       "       0.63992102, 0.14335329, 0.94466892, 0.52184832, 0.41466194])"
      ]
     },
     "execution_count": 16,
     "metadata": {},
     "output_type": "execute_result"
    }
   ],
   "source": [
    "# 練習手刻 Jackknife Estimate the Coefficient of Variation\n",
    "#np.random.seed(30)\n",
    "x = stats.uniform.rvs(size = 30, random_state = 0)\n",
    "n = len(x)\n",
    "\n",
    "x"
   ]
  },
  {
   "cell_type": "code",
   "execution_count": 17,
   "metadata": {},
   "outputs": [
    {
     "data": {
      "text/plain": [
       "0.4903694340921092"
      ]
     },
     "execution_count": 17,
     "metadata": {},
     "output_type": "execute_result"
    }
   ],
   "source": [
    "# 請計算根據所有樣本計算出來的 CV估計值 theta:\n",
    "# np.var(ddof):\n",
    "# ddof = 1 provides an unbiased estimator of the variance of a hypothetical infinite population.\n",
    "# ddof = 0 provides a maximum likelihood estimate of the variance for normally distributed variables.\n",
    "\n",
    "def CV(X):\n",
    "    x = np.array(X)\n",
    "    return np.sqrt(x.var(ddof = 1)) / x.mean()\n",
    "\n",
    "theta = CV(x)\n",
    "theta"
   ]
  },
  {
   "cell_type": "code",
   "execution_count": 18,
   "metadata": {},
   "outputs": [
    {
     "data": {
      "text/plain": [
       "array([0.49798015, 0.50106124, 0.49963953, 0.49783479, 0.49172929,\n",
       "       0.50051286, 0.49259047, 0.49752775, 0.49395476, 0.48901128,\n",
       "       0.5004172 , 0.49720932, 0.49864358, 0.49600682, 0.45586651,\n",
       "       0.45811423, 0.44835947, 0.49952182, 0.50062866, 0.49835876,\n",
       "       0.49304798, 0.50028336, 0.4939709 , 0.50059474, 0.46229067,\n",
       "       0.5004161 , 0.4654896 , 0.49502425, 0.49691627, 0.49115144])"
      ]
     },
     "execution_count": 18,
     "metadata": {},
     "output_type": "execute_result"
    }
   ],
   "source": [
    "# 請計算所有 leave-one-out 的 CV估計值 theta_i:\n",
    "# Hint: 每次都排除1個樣本後，再做CV估計。總共會生成 n個 leave-one-out estimations \n",
    "theta_i = np.array([CV(np.delete(x, i)) for i in range(len(x))])\n",
    "theta_i"
   ]
  },
  {
   "cell_type": "code",
   "execution_count": 19,
   "metadata": {
    "scrolled": true
   },
   "outputs": [
    {
     "data": {
      "text/plain": [
       "0.4874010184059756"
      ]
     },
     "execution_count": 19,
     "metadata": {},
     "output_type": "execute_result"
    }
   ],
   "source": [
    "# 請計算 Jackknife Estimate the Coefficient of Variation\n",
    "# Hint: 請參考 resulting bias-corrected Jackknife estimate 公式，會運用到 theta 和 theta_i \n",
    "theta_jack = n * theta - (n - 1) * theta_i.mean()\n",
    "theta_jack"
   ]
  },
  {
   "cell_type": "code",
   "execution_count": 20,
   "metadata": {},
   "outputs": [
    {
     "data": {
      "text/plain": [
       "<matplotlib.collections.PathCollection at 0x124702cc0>"
      ]
     },
     "execution_count": 20,
     "metadata": {},
     "output_type": "execute_result"
    },
    {
     "data": {
      "image/png": "[encoded data removed]",
      "text/plain": [
       "<Figure size 432x288 with 1 Axes>"
      ]
     },
     "metadata": {
      "needs_background": "light"
     },
     "output_type": "display_data"
    }
   ],
   "source": [
    "plt.scatter(x = [i for i in range(len(theta_i))], y = theta_i)"
   ]
  },
  {
   "cell_type": "markdown",
   "metadata": {},
   "source": [
    "### 挑戰題：\n",
    "### 線性回歸模型係數的 Jackknife Estimation："
   ]
  },
  {
   "cell_type": "code",
   "execution_count": 21,
   "metadata": {},
   "outputs": [],
   "source": [
    "np.random.seed(2)\n",
    "n, p = 50, 5"
   ]
  },
  {
   "cell_type": "code",
   "execution_count": 22,
   "metadata": {},
   "outputs": [
    {
     "name": "stdout",
     "output_type": "stream",
     "text": [
      "(50, 5)\n",
      "         V1        V2        V3        V4        V5\n",
      "0 -0.416758 -0.056267 -2.136196  1.640271 -1.793436\n",
      "1 -0.841747  0.502881 -1.245288 -1.057952 -0.909008\n",
      "2  0.551454  2.292208  0.041539 -1.117925  0.539058\n",
      "3 -0.596160 -0.019130  1.175001 -0.747871  0.009025\n",
      "4 -0.878108 -0.156434  0.256570 -0.988779 -0.338822\n"
     ]
    }
   ],
   "source": [
    "matrix = np.array(stats.norm.rvs(loc = 0, scale = 1, size = n*p)).reshape(50, 5)\n",
    "mydata = pd.DataFrame(matrix, columns = [\"V1\", \"V2\", \"V3\", \"V4\", \"V5\"])\n",
    "\n",
    "print(mydata.shape)\n",
    "print(mydata.head(5))"
   ]
  },
  {
   "cell_type": "code",
   "execution_count": 23,
   "metadata": {},
   "outputs": [],
   "source": [
    "# 請建立線性回歸模型的公式組成： V1 = a1 + a2*V2 + a3*V3 + a4*V4\n",
    "# Hint: formula(Y ~ X) , Y is dependent variable, X is independent variable\n",
    "# 請完成自定義函數 theta_coef:\n",
    "# Hint: lm 就是 線性回歸模型\n",
    "# model_lm.fit().summary()\n",
    "# model_lm.fit().params\n",
    "\n",
    "from statsmodels.formula.api import ols\n",
    "\n",
    "def theta_coef(x, xdata, coefficient):\n",
    "    model_lm = ols(\"V1 ~ V2 + V3 + V4\", data = xdata.loc[x])\n",
    "    results = model_lm.fit()\n",
    "    return results.params[str(coefficient)]\n",
    "\n",
    "def theta_leave_one_coef(x, xdata, coefficient):\n",
    "    model_lm = ols(\"V1 ~ V2 + V3 + V4\", data = xdata.drop(x, axis = 0))\n",
    "    results = model_lm.fit()\n",
    "    return results.params[str(coefficient)]\n",
    "\n",
    "# 計算特定樣本\n",
    "#theta_coef(x = 2, xdata = mydata, coefficient = \"Intercept\")\n",
    "#theta_leave_one_coef(x = 1, xdata = mydata, coefficient = \"Intercept\")"
   ]
  },
  {
   "cell_type": "code",
   "execution_count": 24,
   "metadata": {},
   "outputs": [
    {
     "name": "stdout",
     "output_type": "stream",
     "text": [
      "The calculated estimator of the coefficient based on all n observations: 0.07181883347307495\n",
      "The collection of these leave-one-out estimations: \n",
      " [0.07627918 0.08065543 0.05301953 0.09220865 0.09167118 0.06927506\n",
      " 0.0722736  0.04900954 0.0761246  0.07685158 0.05162291 0.04262493\n",
      " 0.08412314 0.07202833 0.08495355 0.03572077 0.08901313 0.11956439\n",
      " 0.07243888 0.05816248 0.05609195 0.0013434  0.07519045 0.08759722\n",
      " 0.09389856 0.05759356 0.0753484  0.04944509 0.08800588 0.05789602\n",
      " 0.04465677 0.07199498 0.09253522 0.07960002 0.03780245 0.08812849\n",
      " 0.04998531 0.06095538 0.05302191 0.03605868 0.1030518  0.10081917\n",
      " 0.10800345 0.07176093 0.07592558 0.11020891 0.06046211 0.08965221\n",
      " 0.10788989 0.06397764]\n",
      "The Average of resulting bias-corrected Jackknife estimation: 0.06634985282341667\n",
      "Jackknife_bias: 0.005468980649658561\n",
      "Jackknife_se: 0.15937146526835802\n"
     ]
    }
   ],
   "source": [
    "# 請計算線性回歸模型中，截距項係數的 Jackknife Estimation:\n",
    "# n, len(Jack_values)\n",
    "#mydata = pd.DataFrame(x.reshape(6,5), columns = [\"V1\", \"V2\", \"V3\", \"V4\", \"V5\"])\n",
    "\n",
    "thetahat = ols(\"V1 ~ V2 + V3 + V4\", data = mydata).fit().params[\"Intercept\"]\n",
    "Jack_values = np.array([theta_leave_one_coef(x = i, xdata = mydata, coefficient = \"Intercept\") for i in range(len(mydata))])\n",
    "theta_Jack = (len(Jack_values)*thetahat - (len(Jack_values) - 1)*Jack_values).mean()\n",
    "Jack_bias = (len(Jack_values) - 1) * (Jack_values.mean() - thetahat)\n",
    "Jack_se = np.sqrt(((len(Jack_values) - 1)/len(Jack_values)) * sum((Jack_values - Jack_values.mean())**2))\n",
    "\n",
    "print(\"The calculated estimator of the coefficient based on all n observations:\", thetahat)\n",
    "print(\"The collection of these leave-one-out estimations: \\n\", Jack_values)\n",
    "print(\"The Average of resulting bias-corrected Jackknife estimation:\", theta_Jack)\n",
    "print(\"Jackknife_bias:\", Jack_bias)\n",
    "print(\"Jackknife_se:\", Jack_se)"
   ]
  },
  {
   "cell_type": "markdown",
   "metadata": {},
   "source": [
    "### 樣本平均數的 Bootstrap Estimation:"
   ]
  },
  {
   "cell_type": "code",
   "execution_count": 25,
   "metadata": {},
   "outputs": [
    {
     "data": {
      "text/plain": [
       "0.07651681499999999"
      ]
     },
     "execution_count": 25,
     "metadata": {},
     "output_type": "execute_result"
    }
   ],
   "source": [
    "xxx = np.array([0.5855288, 0.7094660, -0.1093033, -0.4534972, 0.6058875, -1.8179560, 0.6300986, -0.2761841,\n",
    "                -0.2841597, -0.9193220, -0.1162478, 1.8173120, 0.3706279, 0.5202165, -0.7505320, 0.8168998,\n",
    "               -0.8863575, -0.3315776, 1.1207127, 0.2987237])\n",
    "\n",
    "# 接下來兩種不同重抽法產生的估計量，都是以此為待估參數：（視為比較基準）\n",
    "xxx.mean()"
   ]
  },
  {
   "cell_type": "code",
   "execution_count": 26,
   "metadata": {},
   "outputs": [
    {
     "data": {
      "text/plain": [
       "array([ 0.31479696, -0.08848972, -0.11284176, -0.05683054, -0.12041232,\n",
       "        0.0099345 , -0.01069587,  0.15442243,  0.14954299,  0.53171748,\n",
       "        0.06376438,  0.06730892,  0.14584379,  0.34763341, -0.1102875 ,\n",
       "       -0.04683628, -0.0085361 , -0.05772329,  0.17884119,  0.08137619,\n",
       "       -0.02119099,  0.19185863,  0.24005881,  0.24633854, -0.05504772,\n",
       "       -0.10712852,  0.1680524 ,  0.15549105,  0.33645113, -0.00526597,\n",
       "        0.03285371,  0.22796725,  0.09533613,  0.17270637,  0.06828193,\n",
       "        0.47224229,  0.06736053,  0.37944203,  0.15735683,  0.21989132,\n",
       "       -0.02664353,  0.09315727,  0.27376901, -0.10373226,  0.36642818,\n",
       "        0.39576515,  0.09431283, -0.03771089,  0.18788826,  0.06076377,\n",
       "       -0.09631845,  0.06233576, -0.11006436,  0.31450435, -0.07064313,\n",
       "       -0.15031992,  0.18673302, -0.00676049,  0.18649036,  0.30988294,\n",
       "       -0.01770353, -0.15796655, -0.17129295,  0.32574132,  0.15564415,\n",
       "        0.14946497,  0.27032832,  0.10978581,  0.23130101,  0.37588627,\n",
       "        0.2597094 ,  0.00074745, -0.20579167,  0.05993192,  0.02895433,\n",
       "        0.32247635,  0.01419622,  0.21258721,  0.22006096, -0.22246587,\n",
       "       -0.21424125,  0.00705128,  0.09091972,  0.18511236,  0.00289966,\n",
       "        0.09788054,  0.05505528,  0.16723279,  0.11751779,  0.21534953,\n",
       "        0.04124493, -0.15944815, -0.00973163,  0.05668494, -0.07593986,\n",
       "        0.42734683,  0.0870871 ,  0.14363298,  0.21580909,  0.05911289])"
      ]
     },
     "execution_count": 26,
     "metadata": {},
     "output_type": "execute_result"
    }
   ],
   "source": [
    "# 根據這 100 個 Bootstrap estimation samples 計算樣本平均數的 Bootstrap Estimation： \n",
    "\n",
    "xxx_bootstrap_mean = np.array([np.random.choice(xxx, len(xxx), replace = True).mean() for i in range(100)])\n",
    "xxx_bootstrap_mean"
   ]
  },
  {
   "cell_type": "code",
   "execution_count": 27,
   "metadata": {},
   "outputs": [
    {
     "name": "stdout",
     "output_type": "stream",
     "text": [
      "mu_hat: 0.5811203282945502\n",
      "Jackknife_values: \n",
      " [0.58223436 0.57649726 0.58037402 0.58236989 0.58655017 0.57888675\n",
      " 0.58606975 0.57040817 0.56792921 0.58793684 0.5738581  0.5829212\n",
      " 0.58157122 0.56924183 0.59870944 0.5981545  0.60046177 0.57244793\n",
      " 0.57432597 0.57115854 0.5674135  0.57360177 0.58524588 0.57424416\n",
      " 0.59708053 0.57909272 0.59621574 0.56858417 0.58316419 0.58686027]\n",
      "mu_hat_Jackknife: 0.581120328294549\n",
      "Jackknife_bias: 3.219646771412954e-15\n",
      "Jackknife_se: 0.0520270057569304\n"
     ]
    }
   ],
   "source": [
    "# 樣本平均數的 Jackknife Estimation:\n",
    "\n",
    "def Jack_sample_mean(x):\n",
    "    X = np.array(x)\n",
    "    n = len(X)\n",
    "    \n",
    "    mu_hat = X.mean()\n",
    "    Jack_values = np.array([np.delete(X, i).mean() for i in range(n)])\n",
    "    mu_hat_Jack = (len(Jack_values)*mu_hat - (len(Jack_values) - 1)*Jack_values).mean()\n",
    "    Jack_bias = (len(Jack_values) - 1) * (Jack_values.mean() - mu_hat)\n",
    "    Jack_se = np.sqrt(((len(Jack_values) - 1)/len(Jack_values)) * sum((Jack_values - Jack_values.mean())**2))\n",
    "    \n",
    "    return mu_hat, Jack_values, mu_hat_Jack, Jack_bias, Jack_se\n",
    "\n",
    "mu_hat = Jack_sample_mean(x)[0]\n",
    "Jack_values = Jack_sample_mean(x)[1]\n",
    "mu_hat_Jack = Jack_sample_mean(x)[2]\n",
    "Jack_bias = Jack_sample_mean(x)[3]\n",
    "Jack_se = Jack_sample_mean(x)[4]\n",
    "\n",
    "print(\"mu_hat:\", mu_hat)\n",
    "print(\"Jackknife_values: \\n\", Jack_values)\n",
    "print(\"mu_hat_Jackknife:\", mu_hat_Jack)\n",
    "print(\"Jackknife_bias:\", Jack_bias)\n",
    "print(\"Jackknife_se:\", Jack_se)"
   ]
  },
  {
   "cell_type": "markdown",
   "metadata": {},
   "source": [
    "### Bootstrap Estimate the Coefficient of Variation"
   ]
  },
  {
   "cell_type": "code",
   "execution_count": 28,
   "metadata": {},
   "outputs": [
    {
     "data": {
      "text/plain": [
       "array([0.5488135 , 0.71518937, 0.60276338, 0.54488318, 0.4236548 ,\n",
       "       0.64589411, 0.43758721, 0.891773  , 0.96366276, 0.38344152,\n",
       "       0.79172504, 0.52889492, 0.56804456, 0.92559664, 0.07103606,\n",
       "       0.0871293 , 0.0202184 , 0.83261985, 0.77815675, 0.87001215,\n",
       "       0.97861834, 0.79915856, 0.46147936, 0.78052918, 0.11827443,\n",
       "       0.63992102, 0.14335329, 0.94466892, 0.52184832, 0.41466194])"
      ]
     },
     "execution_count": 28,
     "metadata": {},
     "output_type": "execute_result"
    }
   ],
   "source": [
    "# 練習手刻 Bootstrap Estimate the Coefficient of Variation\n",
    "#np.random.seed(30)\n",
    "x = stats.uniform.rvs(size = 30, random_state = 0)\n",
    "n = len(x)\n",
    "\n",
    "x"
   ]
  },
  {
   "cell_type": "code",
   "execution_count": 29,
   "metadata": {},
   "outputs": [
    {
     "data": {
      "text/plain": [
       "0.3823683202728915"
      ]
     },
     "execution_count": 29,
     "metadata": {},
     "output_type": "execute_result"
    }
   ],
   "source": [
    "# 請計算根據所有樣本計算出來的 CV估計值 theta:\n",
    "# np.var(ddof):\n",
    "# ddof = 1 provides an unbiased estimator of the variance of a hypothetical infinite population.\n",
    "# ddof = 0 provides a maximum likelihood estimate of the variance for normally distributed variables.\n",
    "# Hint: 針對所有樣本 x 進行取後放回抽樣，直至抽樣個數與原有樣本數一樣多後，再進行估計\n",
    "\n",
    "def CV(X):\n",
    "    x = np.array(X)\n",
    "    return np.sqrt(x.var(ddof = 1)) / x.mean()\n",
    "\n",
    "CV(np.random.choice(x, len(x), replace = True))"
   ]
  },
  {
   "cell_type": "code",
   "execution_count": 30,
   "metadata": {},
   "outputs": [
    {
     "name": "stdout",
     "output_type": "stream",
     "text": [
      "[0.54282335 0.46680483 0.40019927 0.51872749 0.60582198 0.41500077\n",
      " 0.51504127 0.3831742  0.48287214 0.61983277 0.55024486 0.58304337\n",
      " 0.43744314 0.4868702  0.47034952 0.5532741  0.49802528 0.38474934\n",
      " 0.4486168  0.40127631 0.5454479  0.61646964 0.53200718 0.38390776\n",
      " 0.40578169 0.51734492 0.57453624 0.5180238  0.44196364 0.40762026\n",
      " 0.50424509 0.47836904 0.57572091 0.48655108 0.63458282 0.4285543\n",
      " 0.56395121 0.39190314 0.6536659  0.52860311 0.43958417 0.51530158\n",
      " 0.4706088  0.5388668  0.55597215 0.46977587 0.535324   0.45519441\n",
      " 0.48007247 0.54229846 0.52821728 0.42337959 0.46264463 0.4069738\n",
      " 0.39879483 0.616653   0.50126241 0.54476784 0.48872448 0.46636119\n",
      " 0.39864944 0.5589469  0.45107697 0.35731094 0.44424203 0.4128275\n",
      " 0.55066444 0.55242732 0.45742509 0.38448031 0.50273634 0.49590537\n",
      " 0.60572297 0.48568617 0.46323281 0.51340512 0.50847811 0.47749434\n",
      " 0.45381784 0.52274031 0.41419976 0.58164802 0.39709512 0.44879558\n",
      " 0.53690715 0.56136522 0.43091095 0.40745473 0.5118993  0.51261589\n",
      " 0.63334492 0.50708191 0.45548763 0.46655535 0.45831211 0.55682517\n",
      " 0.56565907 0.39565886 0.48653208 0.63666944]\n",
      "0.49356506997516775\n",
      "0.004752576442537152\n"
     ]
    }
   ],
   "source": [
    "# 請計算 100 個 Bootstrap estimation samples: \n",
    "# 最後根據這 100 個 Bootstrap estimation samples 計算平均與變異數，形成CV估計量的分佈\n",
    "\n",
    "boot = np.array([CV(np.random.choice(x, len(x), replace = True)) for i in range(100)])\n",
    "\n",
    "print(boot)\n",
    "print(boot.mean())\n",
    "print(boot.var())"
   ]
  },
  {
   "cell_type": "code",
   "execution_count": 31,
   "metadata": {},
   "outputs": [
    {
     "data": {
      "text/plain": [
       "(array([ 5., 14.,  7., 16., 14., 14., 16.,  5.,  5.,  4.]),\n",
       " array([0.35731094, 0.38694644, 0.41658193, 0.44621743, 0.47585293,\n",
       "        0.50548842, 0.53512392, 0.56475942, 0.59439491, 0.62403041,\n",
       "        0.6536659 ]),\n",
       " <a list of 10 Patch objects>)"
      ]
     },
     "execution_count": 31,
     "metadata": {},
     "output_type": "execute_result"
    },
    {
     "data": {
      "image/png": "[encoded data removed]",
      "text/plain": [
       "<Figure size 432x288 with 1 Axes>"
      ]
     },
     "metadata": {
      "needs_background": "light"
     },
     "output_type": "display_data"
    }
   ],
   "source": [
    "# 最後根據這 100 個 Bootstrap estimation samples 計算平均與變異數，形成CV估計量的分佈：\n",
    "\n",
    "plt.hist(boot)"
   ]
  },
  {
   "cell_type": "code",
   "execution_count": 32,
   "metadata": {},
   "outputs": [
    {
     "data": {
      "text/plain": [
       "0.07651681499999999"
      ]
     },
     "execution_count": 32,
     "metadata": {},
     "output_type": "execute_result"
    }
   ],
   "source": [
    "xxx = np.array([0.5855288, 0.7094660, -0.1093033, -0.4534972, 0.6058875, -1.8179560, 0.6300986, -0.2761841,\n",
    "                -0.2841597, -0.9193220, -0.1162478, 1.8173120, 0.3706279, 0.5202165, -0.7505320, 0.8168998,\n",
    "               -0.8863575, -0.3315776, 1.1207127, 0.2987237])\n",
    "\n",
    "xxx.mean()"
   ]
  },
  {
   "cell_type": "markdown",
   "metadata": {},
   "source": [
    "### rpart, mlbench, adabag"
   ]
  },
  {
   "cell_type": "code",
   "execution_count": 33,
   "metadata": {},
   "outputs": [],
   "source": [
    "Vehicle = pd.read_csv('./Data/Vehicle.csv', index_col = 0)"
   ]
  },
  {
   "cell_type": "code",
   "execution_count": 34,
   "metadata": {},
   "outputs": [
    {
     "data": {
      "text/html": [
       "<div>\n",
       "<style scoped>\n",
       "    .dataframe tbody tr th:only-of-type {\n",
       "        vertical-align: middle;\n",
       "    }\n",
       "\n",
       "    .dataframe tbody tr th {\n",
       "        vertical-align: top;\n",
       "    }\n",
       "\n",
       "    .dataframe thead th {\n",
       "        text-align: right;\n",
       "    }\n",
       "</style>\n",
       "<table border=\"1\" class=\"dataframe\">\n",
       "  <thead>\n",
       "    <tr style=\"text-align: right;\">\n",
       "      <th></th>\n",
       "      <th>Comp</th>\n",
       "      <th>Circ</th>\n",
       "      <th>D.Circ</th>\n",
       "      <th>Rad.Ra</th>\n",
       "      <th>Pr.Axis.Ra</th>\n",
       "      <th>Max.L.Ra</th>\n",
       "      <th>Scat.Ra</th>\n",
       "      <th>Elong</th>\n",
       "      <th>Pr.Axis.Rect</th>\n",
       "      <th>Max.L.Rect</th>\n",
       "      <th>Sc.Var.Maxis</th>\n",
       "      <th>Sc.Var.maxis</th>\n",
       "      <th>Ra.Gyr</th>\n",
       "      <th>Skew.Maxis</th>\n",
       "      <th>Skew.maxis</th>\n",
       "      <th>Kurt.maxis</th>\n",
       "      <th>Kurt.Maxis</th>\n",
       "      <th>Holl.Ra</th>\n",
       "      <th>Class</th>\n",
       "    </tr>\n",
       "  </thead>\n",
       "  <tbody>\n",
       "    <tr>\n",
       "      <th>1</th>\n",
       "      <td>95</td>\n",
       "      <td>48</td>\n",
       "      <td>83</td>\n",
       "      <td>178</td>\n",
       "      <td>72</td>\n",
       "      <td>10</td>\n",
       "      <td>162</td>\n",
       "      <td>42</td>\n",
       "      <td>20</td>\n",
       "      <td>159</td>\n",
       "      <td>176</td>\n",
       "      <td>379</td>\n",
       "      <td>184</td>\n",
       "      <td>70</td>\n",
       "      <td>6</td>\n",
       "      <td>16</td>\n",
       "      <td>187</td>\n",
       "      <td>197</td>\n",
       "      <td>van</td>\n",
       "    </tr>\n",
       "    <tr>\n",
       "      <th>2</th>\n",
       "      <td>91</td>\n",
       "      <td>41</td>\n",
       "      <td>84</td>\n",
       "      <td>141</td>\n",
       "      <td>57</td>\n",
       "      <td>9</td>\n",
       "      <td>149</td>\n",
       "      <td>45</td>\n",
       "      <td>19</td>\n",
       "      <td>143</td>\n",
       "      <td>170</td>\n",
       "      <td>330</td>\n",
       "      <td>158</td>\n",
       "      <td>72</td>\n",
       "      <td>9</td>\n",
       "      <td>14</td>\n",
       "      <td>189</td>\n",
       "      <td>199</td>\n",
       "      <td>van</td>\n",
       "    </tr>\n",
       "    <tr>\n",
       "      <th>3</th>\n",
       "      <td>104</td>\n",
       "      <td>50</td>\n",
       "      <td>106</td>\n",
       "      <td>209</td>\n",
       "      <td>66</td>\n",
       "      <td>10</td>\n",
       "      <td>207</td>\n",
       "      <td>32</td>\n",
       "      <td>23</td>\n",
       "      <td>158</td>\n",
       "      <td>223</td>\n",
       "      <td>635</td>\n",
       "      <td>220</td>\n",
       "      <td>73</td>\n",
       "      <td>14</td>\n",
       "      <td>9</td>\n",
       "      <td>188</td>\n",
       "      <td>196</td>\n",
       "      <td>saab</td>\n",
       "    </tr>\n",
       "    <tr>\n",
       "      <th>4</th>\n",
       "      <td>93</td>\n",
       "      <td>41</td>\n",
       "      <td>82</td>\n",
       "      <td>159</td>\n",
       "      <td>63</td>\n",
       "      <td>9</td>\n",
       "      <td>144</td>\n",
       "      <td>46</td>\n",
       "      <td>19</td>\n",
       "      <td>143</td>\n",
       "      <td>160</td>\n",
       "      <td>309</td>\n",
       "      <td>127</td>\n",
       "      <td>63</td>\n",
       "      <td>6</td>\n",
       "      <td>10</td>\n",
       "      <td>199</td>\n",
       "      <td>207</td>\n",
       "      <td>van</td>\n",
       "    </tr>\n",
       "    <tr>\n",
       "      <th>5</th>\n",
       "      <td>85</td>\n",
       "      <td>44</td>\n",
       "      <td>70</td>\n",
       "      <td>205</td>\n",
       "      <td>103</td>\n",
       "      <td>52</td>\n",
       "      <td>149</td>\n",
       "      <td>45</td>\n",
       "      <td>19</td>\n",
       "      <td>144</td>\n",
       "      <td>241</td>\n",
       "      <td>325</td>\n",
       "      <td>188</td>\n",
       "      <td>127</td>\n",
       "      <td>9</td>\n",
       "      <td>11</td>\n",
       "      <td>180</td>\n",
       "      <td>183</td>\n",
       "      <td>bus</td>\n",
       "    </tr>\n",
       "  </tbody>\n",
       "</table>\n",
       "</div>"
      ],
      "text/plain": [
       "   Comp  Circ  D.Circ  Rad.Ra  Pr.Axis.Ra  Max.L.Ra  Scat.Ra  Elong  \\\n",
       "1    95    48      83     178          72        10      162     42   \n",
       "2    91    41      84     141          57         9      149     45   \n",
       "3   104    50     106     209          66        10      207     32   \n",
       "4    93    41      82     159          63         9      144     46   \n",
       "5    85    44      70     205         103        52      149     45   \n",
       "\n",
       "   Pr.Axis.Rect  Max.L.Rect  Sc.Var.Maxis  Sc.Var.maxis  Ra.Gyr  Skew.Maxis  \\\n",
       "1            20         159           176           379     184          70   \n",
       "2            19         143           170           330     158          72   \n",
       "3            23         158           223           635     220          73   \n",
       "4            19         143           160           309     127          63   \n",
       "5            19         144           241           325     188         127   \n",
       "\n",
       "   Skew.maxis  Kurt.maxis  Kurt.Maxis  Holl.Ra Class  \n",
       "1           6          16         187      197   van  \n",
       "2           9          14         189      199   van  \n",
       "3          14           9         188      196  saab  \n",
       "4           6          10         199      207   van  \n",
       "5           9          11         180      183   bus  "
      ]
     },
     "execution_count": 34,
     "metadata": {},
     "output_type": "execute_result"
    }
   ],
   "source": [
    "Vehicle.head()"
   ]
  },
  {
   "cell_type": "code",
   "execution_count": 35,
   "metadata": {},
   "outputs": [
    {
     "data": {
      "text/plain": [
       "bus     218\n",
       "saab    217\n",
       "opel    212\n",
       "van     199\n",
       "Name: Class, dtype: int64"
      ]
     },
     "execution_count": 35,
     "metadata": {},
     "output_type": "execute_result"
    }
   ],
   "source": [
    "Vehicle.shape # 846, 19\n",
    "Vehicle['Class'].value_counts()"
   ]
  },
  {
   "cell_type": "code",
   "execution_count": 36,
   "metadata": {},
   "outputs": [],
   "source": [
    "from sklearn.model_selection import train_test_split\n",
    "from sklearn import tree\n",
    "\n",
    "from sklearn.metrics import confusion_matrix\n",
    "from sklearn.ensemble import AdaBoostClassifier"
   ]
  },
  {
   "cell_type": "code",
   "execution_count": 37,
   "metadata": {},
   "outputs": [],
   "source": [
    "X = Vehicle.copy()\n",
    "X = X.drop('Class', axis = 1)\n",
    "y = Vehicle['Class']"
   ]
  },
  {
   "cell_type": "code",
   "execution_count": 38,
   "metadata": {},
   "outputs": [],
   "source": [
    "train_X, test_X, train_y, test_y = train_test_split(X, y, test_size = 1/3)"
   ]
  },
  {
   "cell_type": "code",
   "execution_count": 39,
   "metadata": {},
   "outputs": [],
   "source": [
    "# 根據 Vehicle_train，使用決策樹建模 DecisionTreeClassifier\n",
    "clf = tree.DecisionTreeClassifier(max_depth = 5)\n",
    "clf = clf.fit(train_X, train_y)"
   ]
  },
  {
   "cell_type": "code",
   "execution_count": 40,
   "metadata": {},
   "outputs": [],
   "source": [
    "# 根據決策樹模型物件 clf 和 test_X，進行Class分類預測：\n",
    "y_pred = clf.predict(test_X)"
   ]
  },
  {
   "cell_type": "code",
   "execution_count": 41,
   "metadata": {},
   "outputs": [],
   "source": [
    "# 請根據分類決策樹的預測結果，建立 Confusion Matrix tb:\n",
    "tb = confusion_matrix(test_y, y_pred, sample_weight = None)"
   ]
  },
  {
   "cell_type": "code",
   "execution_count": 42,
   "metadata": {},
   "outputs": [
    {
     "name": "stdout",
     "output_type": "stream",
     "text": [
      "error rate: 0.2943262411347518\n"
     ]
    }
   ],
   "source": [
    "# 計算error rate：\n",
    "error_rpart = 1 - tb.diagonal().sum() / tb.sum()\n",
    "print('error rate:', error_rpart)"
   ]
  },
  {
   "cell_type": "code",
   "execution_count": 43,
   "metadata": {},
   "outputs": [],
   "source": [
    "#==================================================================================\n",
    "# 13/26\n",
    "# 根據 Vehicle.train，使用Adaboost建模 boosting："
   ]
  },
  {
   "cell_type": "code",
   "execution_count": 44,
   "metadata": {},
   "outputs": [],
   "source": [
    "ada_clf = AdaBoostClassifier(clf, n_estimators = 10, learning_rate = 1)\n",
    "ada_clf = ada_clf.fit(train_X, train_y)"
   ]
  },
  {
   "cell_type": "code",
   "execution_count": 45,
   "metadata": {},
   "outputs": [],
   "source": [
    "# 根據Adaboost模型物件 ada_clf 和 test_X，進行Class分類預測：\n",
    "y_pred = ada_clf.predict(test_X)"
   ]
  },
  {
   "cell_type": "code",
   "execution_count": 46,
   "metadata": {},
   "outputs": [],
   "source": [
    "tb = confusion_matrix(test_y, y_pred, sample_weight = None)"
   ]
  },
  {
   "cell_type": "code",
   "execution_count": 47,
   "metadata": {},
   "outputs": [
    {
     "name": "stdout",
     "output_type": "stream",
     "text": [
      "error rate: 0.3226950354609929\n"
     ]
    }
   ],
   "source": [
    "error_rpart = 1 - tb.diagonal().sum() / tb.sum()\n",
    "print('error rate:', error_rpart)"
   ]
  },
  {
   "cell_type": "code",
   "execution_count": 48,
   "metadata": {},
   "outputs": [
    {
     "data": {
      "text/plain": [
       "<matplotlib.axes._subplots.AxesSubplot at 0x1270f22e8>"
      ]
     },
     "execution_count": 48,
     "metadata": {},
     "output_type": "execute_result"
    },
    {
     "data": {
      "image/png": "[encoded data removed]",
      "text/plain": [
       "<Figure size 432x288 with 1 Axes>"
      ]
     },
     "metadata": {
      "needs_background": "light"
     },
     "output_type": "display_data"
    }
   ],
   "source": [
    "# Variable relative important:\n",
    "feats = {} # a dict to hold feature_name: feature_importance\n",
    "for feature, importance in zip(train_X.columns, ada_clf.feature_importances_):\n",
    "    feats[feature] = importance*100 #add the name/value pair \n",
    "\n",
    "importances = pd.DataFrame.from_dict(feats, orient = 'index').rename(columns = {0: 'Gini-importance'})\n",
    "importances.sort_values(by = 'Gini-importance', ascending = False).plot(kind = 'bar', rot = 45)"
   ]
  },
  {
   "cell_type": "code",
   "execution_count": 49,
   "metadata": {},
   "outputs": [
    {
     "data": {
      "text/html": [
       "<div>\n",
       "<style scoped>\n",
       "    .dataframe tbody tr th:only-of-type {\n",
       "        vertical-align: middle;\n",
       "    }\n",
       "\n",
       "    .dataframe tbody tr th {\n",
       "        vertical-align: top;\n",
       "    }\n",
       "\n",
       "    .dataframe thead th {\n",
       "        text-align: right;\n",
       "    }\n",
       "</style>\n",
       "<table border=\"1\" class=\"dataframe\">\n",
       "  <thead>\n",
       "    <tr style=\"text-align: right;\">\n",
       "      <th></th>\n",
       "      <th>Gini-importance</th>\n",
       "    </tr>\n",
       "  </thead>\n",
       "  <tbody>\n",
       "    <tr>\n",
       "      <th>Max.L.Ra</th>\n",
       "      <td>13.469792</td>\n",
       "    </tr>\n",
       "    <tr>\n",
       "      <th>D.Circ</th>\n",
       "      <td>12.040133</td>\n",
       "    </tr>\n",
       "    <tr>\n",
       "      <th>Max.L.Rect</th>\n",
       "      <td>10.719427</td>\n",
       "    </tr>\n",
       "    <tr>\n",
       "      <th>Sc.Var.Maxis</th>\n",
       "      <td>9.517741</td>\n",
       "    </tr>\n",
       "    <tr>\n",
       "      <th>Ra.Gyr</th>\n",
       "      <td>8.774633</td>\n",
       "    </tr>\n",
       "  </tbody>\n",
       "</table>\n",
       "</div>"
      ],
      "text/plain": [
       "              Gini-importance\n",
       "Max.L.Ra            13.469792\n",
       "D.Circ              12.040133\n",
       "Max.L.Rect          10.719427\n",
       "Sc.Var.Maxis         9.517741\n",
       "Ra.Gyr               8.774633"
      ]
     },
     "execution_count": 49,
     "metadata": {},
     "output_type": "execute_result"
    }
   ],
   "source": [
    "importances.sort_values(by = 'Gini-importance', ascending = False)[:5]"
   ]
  },
  {
   "cell_type": "code",
   "execution_count": 50,
   "metadata": {},
   "outputs": [],
   "source": [
    "#==================================================================================\n",
    "# 14/26\n",
    "# 10-fold cross validation with Adaboost:\n",
    "# Hint: v-fold"
   ]
  },
  {
   "cell_type": "code",
   "execution_count": 51,
   "metadata": {},
   "outputs": [],
   "source": [
    "from sklearn.ensemble import BaggingClassifier\n",
    "from sklearn.model_selection import cross_val_predict"
   ]
  },
  {
   "cell_type": "code",
   "execution_count": 52,
   "metadata": {},
   "outputs": [],
   "source": [
    "y_pred = cross_val_predict(ada_clf, X, y, cv=10)\n",
    "Vehicle_boost_cv_confusion = confusion_matrix(y, y_pred)"
   ]
  },
  {
   "cell_type": "code",
   "execution_count": 53,
   "metadata": {},
   "outputs": [
    {
     "name": "stdout",
     "output_type": "stream",
     "text": [
      "Error rate: 0.27895981087470445\n"
     ]
    }
   ],
   "source": [
    "Vehicle_boost_cv_error = 1 - Vehicle_boost_cv_confusion.diagonal().sum() / Vehicle_boost_cv_confusion.sum()\n",
    "print('Error rate:', Vehicle_boost_cv_error)"
   ]
  },
  {
   "cell_type": "code",
   "execution_count": 54,
   "metadata": {},
   "outputs": [],
   "source": [
    "# 10-fold cross validation with bagging:\n",
    "# Hint: v-fold"
   ]
  },
  {
   "cell_type": "code",
   "execution_count": 55,
   "metadata": {},
   "outputs": [],
   "source": [
    "bagging_clf = BaggingClassifier(clf, n_estimators=10)"
   ]
  },
  {
   "cell_type": "code",
   "execution_count": 56,
   "metadata": {},
   "outputs": [],
   "source": [
    "y_pred = cross_val_predict(bagging_clf, X, y, cv=10)\n",
    "Vehicle_bag_cv_confusion = confusion_matrix(y, y_pred)"
   ]
  },
  {
   "cell_type": "code",
   "execution_count": 57,
   "metadata": {},
   "outputs": [
    {
     "name": "stdout",
     "output_type": "stream",
     "text": [
      "Error rate: 0.2565011820330969\n"
     ]
    }
   ],
   "source": [
    "Vehicle_bag_cv_error = 1 - Vehicle_bag_cv_confusion.diagonal().sum() / Vehicle_bag_cv_confusion.sum()\n",
    "print('Error rate:', Vehicle_bag_cv_error)"
   ]
  }
 ],
 "metadata": {
  "kernelspec": {
   "display_name": "Python 3",
   "language": "python",
   "name": "python3"
  },
  "language_info": {
   "codemirror_mode": {
    "name": "ipython",
    "version": 3
   },
   "file_extension": ".py",
   "mimetype": "text/x-python",
   "name": "python",
   "nbconvert_exporter": "python",
   "pygments_lexer": "ipython3",
   "version": "3.6.6"
  }
 },
 "nbformat": 4,
 "nbformat_minor": 2
}
