{
 "cells": [
  {
   "cell_type": "markdown",
   "metadata": {},
   "source": [
    "### 配合課程影片 hmwu_StatR-09.2\n",
    "### Exercise 9-2"
   ]
  },
  {
   "cell_type": "code",
   "execution_count": 1,
   "metadata": {},
   "outputs": [
    {
     "name": "stdout",
     "output_type": "stream",
     "text": [
      "Requirement already satisfied: imblearn in /anaconda/lib/python3.6/site-packages (0.0)\n",
      "Requirement already satisfied: imbalanced-learn in /anaconda/lib/python3.6/site-packages (from imblearn) (0.3.3)\n",
      "Requirement already satisfied: scikit-learn in /anaconda/lib/python3.6/site-packages (from imbalanced-learn->imblearn) (0.20.0)\n",
      "Requirement already satisfied: scipy in /anaconda/lib/python3.6/site-packages (from imbalanced-learn->imblearn) (1.1.0)\n",
      "Requirement already satisfied: numpy in /anaconda/lib/python3.6/site-packages (from imbalanced-learn->imblearn) (1.15.2)\n",
      "\u001b[31mtwisted 18.7.0 requires PyHamcrest>=1.9.0, which is not installed.\u001b[0m\n",
      "\u001b[31mdistributed 1.16.3 requires msgpack-python, which is not installed.\u001b[0m\n",
      "\u001b[31mquandl 3.2.0 has requirement requests<2.18,>=2.7.0, but you'll have requests 2.19.1 which is incompatible.\u001b[0m\n",
      "\u001b[31mjupyter-console 5.2.0 has requirement prompt-toolkit<2.0.0,>=1.0.0, but you'll have prompt-toolkit 2.0.5 which is incompatible.\u001b[0m\n",
      "\u001b[33mYou are using pip version 10.0.1, however version 18.1 is available.\n",
      "You should consider upgrading via the 'pip install --upgrade pip' command.\u001b[0m\n"
     ]
    }
   ],
   "source": [
    "!pip install imblearn"
   ]
  },
  {
   "cell_type": "code",
   "execution_count": 2,
   "metadata": {},
   "outputs": [],
   "source": [
    "from sklearn import datasets\n",
    "from scipy import stats\n",
    "import pandas as pd\n",
    "from imblearn.over_sampling import SMOTE\n",
    "from sklearn.model_selection import train_test_split\n",
    "from sklearn.svm import SVC\n",
    "from sklearn.metrics import confusion_matrix"
   ]
  },
  {
   "cell_type": "code",
   "execution_count": 3,
   "metadata": {},
   "outputs": [],
   "source": [
    "ubIonosphere = pd.read_csv('./Data/ubIonosphere.csv', index_col = 0)"
   ]
  },
  {
   "cell_type": "code",
   "execution_count": 4,
   "metadata": {},
   "outputs": [
    {
     "name": "stdout",
     "output_type": "stream",
     "text": [
      "dimension (351, 33)\n",
      "0    225\n",
      "1    126\n",
      "Name: Class, dtype: int64\n"
     ]
    }
   ],
   "source": [
    "#dimension\n",
    "print('dimension', ubIonosphere.shape)\n",
    "#Table\n",
    "print(ubIonosphere['Class'].value_counts())"
   ]
  },
  {
   "cell_type": "code",
   "execution_count": 5,
   "metadata": {},
   "outputs": [],
   "source": [
    "y = ubIonosphere['Class']\n",
    "x = ubIonosphere.copy().drop(['Class'], axis = 1)"
   ]
  },
  {
   "cell_type": "code",
   "execution_count": 6,
   "metadata": {},
   "outputs": [
    {
     "name": "stdout",
     "output_type": "stream",
     "text": [
      "1    225\n",
      "0    225\n",
      "Name: Class, dtype: int64\n"
     ]
    }
   ],
   "source": [
    "# 方法1: \"replicates randomly\" some instances from the \"minority\" class\n",
    "# Hint: over-sampling\n",
    "\n",
    "max_size = ubIonosphere['Class'].value_counts().max()\n",
    "\n",
    "for class_index, group in ubIonosphere.groupby('Class'):\n",
    "    overData = ubIonosphere.append(group.sample(max_size - len(group), replace = True))\n",
    "    \n",
    "print(overData['Class'].value_counts())"
   ]
  },
  {
   "cell_type": "code",
   "execution_count": 7,
   "metadata": {},
   "outputs": [
    {
     "name": "stdout",
     "output_type": "stream",
     "text": [
      "1    126\n",
      "0    126\n",
      "Name: Class, dtype: int64\n"
     ]
    }
   ],
   "source": [
    "# 方法2: \"removes randomly\" some instances from the \"majority (negative)\" class\n",
    "# Hint: under-sampling\n",
    "underData = pd.DataFrame()\n",
    "min_size = ubIonosphere['Class'].value_counts().min()\n",
    "\n",
    "for class_index, group in ubIonosphere.groupby('Class'):\n",
    "    underData = underData.append(group.sample(min_size))\n",
    "    \n",
    "print(underData['Class'].value_counts())"
   ]
  },
  {
   "cell_type": "code",
   "execution_count": 8,
   "metadata": {},
   "outputs": [
    {
     "name": "stdout",
     "output_type": "stream",
     "text": [
      "1    225\n",
      "0    225\n",
      "Name: Class, dtype: int64\n"
     ]
    }
   ],
   "source": [
    "# 方法3: \"synthetic minority over-sampling technique\"\n",
    "# Hint: \"SMOTE\", generates new examples by filling empty areas among the positive instances\n",
    "\n",
    "smote_x, smote_y = SMOTE().fit_sample(x, y)\n",
    "bdata = pd.DataFrame(data = smote_x, columns = x.columns)\n",
    "bdata['Class'] = smote_y\n",
    "print(bdata['Class'].value_counts())"
   ]
  },
  {
   "cell_type": "code",
   "execution_count": 9,
   "metadata": {},
   "outputs": [],
   "source": [
    "# Compare the Performances using SVM:\n",
    "# 將 ubIonosphere dataset 切分成 training set + test set:\n",
    "x_train, x_test, y_train, y_test = train_test_split(x, y, test_size = 0.5)"
   ]
  },
  {
   "cell_type": "code",
   "execution_count": 10,
   "metadata": {},
   "outputs": [
    {
     "name": "stderr",
     "output_type": "stream",
     "text": [
      "/anaconda/lib/python3.6/site-packages/sklearn/svm/base.py:196: FutureWarning: The default value of gamma will change from 'auto' to 'scale' in version 0.22 to account better for unscaled features. Set gamma explicitly to 'auto' or 'scale' to avoid this warning.\n",
      "  \"avoid this warning.\", FutureWarning)\n"
     ]
    },
    {
     "data": {
      "text/plain": [
       "array([[107,   1],\n",
       "       [ 13,  55]])"
      ]
     },
     "execution_count": 10,
     "metadata": {},
     "output_type": "execute_result"
    }
   ],
   "source": [
    "# 方法1: 單純使用 SVM\n",
    "# Hint: x.train, y.train\n",
    "model1 = SVC().fit(x_train, y_train)\n",
    "y_pred1 = model1.predict(x_test)\n",
    "confusion_matrix(y_test, y_pred1)"
   ]
  },
  {
   "cell_type": "code",
   "execution_count": 11,
   "metadata": {},
   "outputs": [
    {
     "name": "stderr",
     "output_type": "stream",
     "text": [
      "/anaconda/lib/python3.6/site-packages/sklearn/svm/base.py:196: FutureWarning: The default value of gamma will change from 'auto' to 'scale' in version 0.22 to account better for unscaled features. Set gamma explicitly to 'auto' or 'scale' to avoid this warning.\n",
      "  \"avoid this warning.\", FutureWarning)\n"
     ]
    },
    {
     "data": {
      "text/plain": [
       "array([[104,   4],\n",
       "       [ 13,  55]])"
      ]
     },
     "execution_count": 11,
     "metadata": {},
     "output_type": "execute_result"
    }
   ],
   "source": [
    "# 方法2: SMOTE + SVM\n",
    "# Hint: balancedData$X, balancedData$Y\n",
    "smote_x, smote_y = SMOTE().fit_sample(x_train, y_train)\n",
    "model2 = SVC().fit(smote_x, smote_y)\n",
    "y_pred2 = model2.predict(x_test)\n",
    "confusion_matrix(y_test, y_pred2)"
   ]
  },
  {
   "cell_type": "code",
   "execution_count": null,
   "metadata": {},
   "outputs": [],
   "source": []
  }
 ],
 "metadata": {
  "kernelspec": {
   "display_name": "Python 3",
   "language": "python",
   "name": "python3"
  },
  "language_info": {
   "codemirror_mode": {
    "name": "ipython",
    "version": 3
   },
   "file_extension": ".py",
   "mimetype": "text/x-python",
   "name": "python",
   "nbconvert_exporter": "python",
   "pygments_lexer": "ipython3",
   "version": "3.6.6"
  }
 },
 "nbformat": 4,
 "nbformat_minor": 2
}
