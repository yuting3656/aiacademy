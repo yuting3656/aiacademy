{
 "cells": [
  {
   "cell_type": "code",
   "execution_count": 1,
   "metadata": {},
   "outputs": [],
   "source": [
    "import pandas as pd\n",
    "import numpy as np\n",
    "import matplotlib.pyplot as plt\n",
    "%matplotlib inline\n",
    "import statsmodels.stats.anova as anova\n",
    "from statsmodels.formula.api import ols"
   ]
  },
  {
   "cell_type": "code",
   "execution_count": 2,
   "metadata": {},
   "outputs": [
    {
     "data": {
      "text/plain": [
       "<matplotlib.axes._subplots.AxesSubplot at 0x122b140b8>"
      ]
     },
     "execution_count": 2,
     "metadata": {},
     "output_type": "execute_result"
    },
    {
     "data": {
      "image/png": "[encoded data removed]",
      "text/plain": [
       "<Figure size 432x288 with 1 Axes>"
      ]
     },
     "metadata": {},
     "output_type": "display_data"
    }
   ],
   "source": [
    "# 11/19\n",
    "\n",
    "pain = [4, 5, 4, 3, 2, 4, 3, 4, 4, 6, 8, 4, 5, 4, 6, 5, 8, 6, 6, 7, 6, 6, 7, 5, 6, 5, 5]\n",
    "x = np.array([\"A\", \"B\", \"C\"])\n",
    "drug = np.repeat(x, 9, axis = 0)\n",
    "d = {'pain':pain, 'drug':drug}\n",
    "df = pd.DataFrame(data = d)\n",
    "df = df.pivot(columns = 'drug', values = 'pain')\n",
    "\n",
    "plt.xlabel('drug')\n",
    "plt.ylabel('pain')\n",
    "\n",
    "df.boxplot(column = ['A', 'B', 'C'])\n"
   ]
  },
  {
   "cell_type": "code",
   "execution_count": 3,
   "metadata": {},
   "outputs": [
    {
     "name": "stdout",
     "output_type": "stream",
     "text": [
      "            df     sum_sq    mean_sq         F    PR(>F)\n",
      "drug       2.0  28.222222  14.111111  11.90625  0.000256\n",
      "Residual  24.0  28.444444   1.185185       NaN       NaN\n"
     ]
    }
   ],
   "source": [
    "# 請檢定drug A, B, C三種藥物作用後，這三群病患頭痛程度的平均值是否不一樣：\n",
    "# Hint: One-way ANOVA（假設三群的變異數相同）\n",
    "# 同義於 oneway.test(pain ~ drug, data = migraine, var.equal = TRUE)\n",
    "\n",
    "migraine = ols('pain ~ drug',data = df).fit()\n",
    "tabel = anova.anova_lm(migraine)\n",
    "print (tabel)\n"
   ]
  },
  {
   "cell_type": "code",
   "execution_count": 4,
   "metadata": {},
   "outputs": [
    {
     "name": "stdout",
     "output_type": "stream",
     "text": [
      "KruskalResult(statistic=14.39546456245112, pvalue=0.0007482807761598261)\n"
     ]
    }
   ],
   "source": [
    "# 請改以無母數方法檢定平均數：\n",
    "# Hint: 當One way ANOVA的前提假設不滿足時，可用Kruskal-Wallis rank sum test\n",
    "\n",
    "from scipy import stats\n",
    "\n",
    "df1 = df.apply(lambda x: pd.Series(x.dropna().values)).fillna('')\n",
    "kruskal = stats.kruskal(df1['A'], df1['B'], df1['C'])\n",
    "print (kruskal)\n",
    "\n"
   ]
  },
  {
   "cell_type": "code",
   "execution_count": 5,
   "metadata": {},
   "outputs": [
    {
     "name": "stdout",
     "output_type": "stream",
     "text": [
      "Test Multiple Comparison ttest_rel \n",
      "FWER=0.05 method=bonferroni\n",
      "alphacSidak=0.02, alphacBonf=0.017\n",
      "=============================================\n",
      "group1 group2   stat   pval  pval_corr reject\n",
      "---------------------------------------------\n",
      "  A      B    -6.0083 0.0003   0.001    True \n",
      "  A      C    -5.1215 0.0009   0.0027   True \n",
      "  B      C    -0.1818 0.8602    1.0    False \n",
      "---------------------------------------------\n"
     ]
    }
   ],
   "source": [
    "# 12/19\n",
    "# 請以 multiple pairwise-comparisons 找出有具體差異的樣本群：前提是ANOVA分析出有組間差異\n",
    "# Hint: 針對一個categorical variable進行比較，找出具體是哪兩組之間有差異\n",
    "\n",
    "\n",
    "from scipy import stats\n",
    "from statsmodels.stats.multicomp import MultiComparison\n",
    "\n",
    "mod = MultiComparison(pain,drug)\n",
    "rtp = mod.allpairtest(stats.ttest_rel, method = 'bonferroni') #pairwise.t.test(x = pain, g = drug, p.adjust = \"bonferroni\",paired = TRUE)\n",
    "print (rtp[0])\n",
    "\n"
   ]
  },
  {
   "cell_type": "code",
   "execution_count": 6,
   "metadata": {},
   "outputs": [
    {
     "name": "stdout",
     "output_type": "stream",
     "text": [
      "Multiple Comparison of Means - Tukey HSD,FWER=0.05\n",
      "============================================\n",
      "group1 group2 meandiff  lower  upper  reject\n",
      "--------------------------------------------\n",
      "  A      B     2.1111   0.8297 3.3925  True \n",
      "  A      C     2.2222   0.9409 3.5036  True \n",
      "  B      C     0.1111  -1.1703 1.3925 False \n",
      "--------------------------------------------\n"
     ]
    }
   ],
   "source": [
    "# 請改以 TukeyHSD test：\n",
    "# Hint: x 應為 fitted anova model\n",
    "\n",
    "from statsmodels.stats.multicomp import MultiComparison\n",
    "\n",
    "df_d = pd.DataFrame(data = d)\n",
    "mc = MultiComparison(df_d['pain'], df_d['drug'])\n",
    "result = mc.tukeyhsd()\n",
    "print(result)"
   ]
  },
  {
   "cell_type": "code",
   "execution_count": null,
   "metadata": {
    "collapsed": true
   },
   "outputs": [],
   "source": []
  }
 ],
 "metadata": {
  "kernelspec": {
   "display_name": "Python 3",
   "language": "python",
   "name": "python3"
  },
  "language_info": {
   "codemirror_mode": {
    "name": "ipython",
    "version": 3
   },
   "file_extension": ".py",
   "mimetype": "text/x-python",
   "name": "python",
   "nbconvert_exporter": "python",
   "pygments_lexer": "ipython3",
   "version": "3.6.4"
  }
 },
 "nbformat": 4,
 "nbformat_minor": 2
}
