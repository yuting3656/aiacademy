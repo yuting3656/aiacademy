{
 "cells": [
  {
   "cell_type": "code",
   "execution_count": 1,
   "metadata": {
    "collapsed": true
   },
   "outputs": [],
   "source": [
    "import numpy as np\n",
    "import matplotlib.pyplot as plt\n",
    "from sklearn import svm, datasets\n",
    "%matplotlib inline\n",
    "from matplotlib.pylab import rcParams\n",
    "rcParams['figure.figsize'] = 10, 5\n",
    "iris = datasets.load_iris()\n",
    "X = iris.data\n",
    "y= iris.target"
   ]
  },
  {
   "cell_type": "markdown",
   "metadata": {},
   "source": [
    "# Grid Search for SVM Parameters"
   ]
  },
  {
   "cell_type": "code",
   "execution_count": 6,
   "metadata": {},
   "outputs": [
    {
     "data": {
      "text/plain": [
       "GridSearchCV(cv=5, error_score='raise',\n",
       "       estimator=SVC(C=1.0, cache_size=200, class_weight=None, coef0=0.0,\n",
       "  decision_function_shape='ovr', degree=3, gamma='auto', kernel='rbf',\n",
       "  max_iter=-1, probability=False, random_state=None, shrinking=True,\n",
       "  tol=0.001, verbose=False),\n",
       "       fit_params=None, iid=True, n_jobs=1,\n",
       "       param_grid={'kernel': ['linear', 'rbf'], 'C': [0.01, 0.1, 1, 10], 'gamma': [0.01, 0.1, 1, 10]},\n",
       "       pre_dispatch='2*n_jobs', refit=True,\n",
       "       return_train_score='cv_results_', scoring='accuracy', verbose=0)"
      ]
     },
     "execution_count": 6,
     "metadata": {},
     "output_type": "execute_result"
    }
   ],
   "source": [
    "from sklearn.model_selection import GridSearchCV\n",
    "parameters= {'kernel':['linear', 'rbf'], 'C':[0.01,0.1,1,10], 'gamma':[0.01,0.1,1,10]}\n",
    "model = svm.SVC()\n",
    "model.fit(X, y)\n",
    "best_model = GridSearchCV(model, parameters, cv=5, scoring='accuracy', return_train_score='cv_results_')\n",
    "best_model.fit(X, y)"
   ]
  },
  {
   "cell_type": "code",
   "execution_count": 7,
   "metadata": {},
   "outputs": [
    {
     "name": "stdout",
     "output_type": "stream",
     "text": [
      "accuracy before Grid Search CV:0.9867\n",
      "accuracy after Grid Search CV:0.9933\n"
     ]
    }
   ],
   "source": [
    "print('accuracy before Grid Search CV:%.4f'%model.score(X, y))\n",
    "print('accuracy after Grid Search CV:%.4f'%best_model.score(X,y))"
   ]
  },
  {
   "cell_type": "markdown",
   "metadata": {},
   "source": [
    "# Best Parameter"
   ]
  },
  {
   "cell_type": "code",
   "execution_count": 8,
   "metadata": {},
   "outputs": [
    {
     "data": {
      "text/plain": [
       "SVC(C=1, cache_size=200, class_weight=None, coef0=0.0,\n",
       "  decision_function_shape='ovr', degree=3, gamma=0.01, kernel='linear',\n",
       "  max_iter=-1, probability=False, random_state=None, shrinking=True,\n",
       "  tol=0.001, verbose=False)"
      ]
     },
     "execution_count": 8,
     "metadata": {},
     "output_type": "execute_result"
    }
   ],
   "source": [
    "best_model.best_estimator_"
   ]
  },
  {
   "cell_type": "code",
   "execution_count": 9,
   "metadata": {},
   "outputs": [
    {
     "data": {
      "text/plain": [
       "{'mean_fit_time': array([0.00059805, 0.        , 0.00039911, 0.00079823, 0.00039825,\n",
       "        0.00039921, 0.00039878, 0.00100336, 0.00019884, 0.00099807,\n",
       "        0.00019989, 0.00039954, 0.00019937, 0.00059404, 0.00039911,\n",
       "        0.00079694, 0.00059171, 0.00059843, 0.00039921, 0.00039911,\n",
       "        0.0001987 , 0.00039806, 0.00059843, 0.00079761, 0.0003931 ,\n",
       "        0.00039954, 0.00039883, 0.0001996 , 0.00039892, 0.0004045 ,\n",
       "        0.        , 0.00079794]),\n",
       " 'std_fit_time': array([4.88305501e-04, 0.00000000e+00, 4.88811327e-04, 3.99112901e-04,\n",
       "        4.87760051e-04, 4.88928035e-04, 4.88403136e-04, 1.15169747e-05,\n",
       "        3.97682190e-04, 1.35206670e-06, 3.99780273e-04, 4.89338516e-04,\n",
       "        3.98731232e-04, 4.85093184e-04, 4.88811443e-04, 3.98471921e-04,\n",
       "        4.83273775e-04, 4.88616574e-04, 4.88928128e-04, 4.88813560e-04,\n",
       "        3.97396088e-04, 4.87529247e-04, 4.88616574e-04, 3.98804364e-04,\n",
       "        4.81534976e-04, 4.89337819e-04, 4.88461041e-04, 3.99208069e-04,\n",
       "        4.88579517e-04, 4.95486344e-04, 0.00000000e+00, 3.98970035e-04]),\n",
       " 'mean_score_time': array([0.00039873, 0.0009975 , 0.00019946, 0.00039873, 0.        ,\n",
       "        0.00059819, 0.0001997 , 0.        , 0.00020022, 0.        ,\n",
       "        0.00019932, 0.00020065, 0.00019951, 0.00019937, 0.        ,\n",
       "        0.0001997 , 0.        , 0.00039878, 0.00039859, 0.00019922,\n",
       "        0.00019989, 0.00020018, 0.00019937, 0.00039949, 0.        ,\n",
       "        0.        , 0.0001997 , 0.00019932, 0.        , 0.00039883,\n",
       "        0.00039907, 0.00019937]),\n",
       " 'std_score_time': array([4.88344054e-04, 7.13664510e-07, 3.98921967e-04, 4.88344054e-04,\n",
       "        0.00000000e+00, 4.88422092e-04, 3.99398804e-04, 0.00000000e+00,\n",
       "        4.00447845e-04, 0.00000000e+00, 3.98635864e-04, 4.01306152e-04,\n",
       "        3.99017334e-04, 3.98731232e-04, 0.00000000e+00, 3.99398804e-04,\n",
       "        0.00000000e+00, 4.88402437e-04, 4.88169534e-04, 3.98445129e-04,\n",
       "        3.99780273e-04, 4.00352478e-04, 3.98731232e-04, 4.89279018e-04,\n",
       "        0.00000000e+00, 0.00000000e+00, 3.99398804e-04, 3.98635864e-04,\n",
       "        0.00000000e+00, 4.88461414e-04, 4.88752840e-04, 3.98731232e-04]),\n",
       " 'param_C': masked_array(data=[0.01, 0.01, 0.01, 0.01, 0.01, 0.01, 0.01, 0.01, 0.1,\n",
       "                    0.1, 0.1, 0.1, 0.1, 0.1, 0.1, 0.1, 1, 1, 1, 1, 1, 1, 1,\n",
       "                    1, 10, 10, 10, 10, 10, 10, 10, 10],\n",
       "              mask=[False, False, False, False, False, False, False, False,\n",
       "                    False, False, False, False, False, False, False, False,\n",
       "                    False, False, False, False, False, False, False, False,\n",
       "                    False, False, False, False, False, False, False, False],\n",
       "        fill_value='?',\n",
       "             dtype=object),\n",
       " 'param_gamma': masked_array(data=[0.01, 0.01, 0.1, 0.1, 1, 1, 10, 10, 0.01, 0.01, 0.1,\n",
       "                    0.1, 1, 1, 10, 10, 0.01, 0.01, 0.1, 0.1, 1, 1, 10, 10,\n",
       "                    0.01, 0.01, 0.1, 0.1, 1, 1, 10, 10],\n",
       "              mask=[False, False, False, False, False, False, False, False,\n",
       "                    False, False, False, False, False, False, False, False,\n",
       "                    False, False, False, False, False, False, False, False,\n",
       "                    False, False, False, False, False, False, False, False],\n",
       "        fill_value='?',\n",
       "             dtype=object),\n",
       " 'param_kernel': masked_array(data=['linear', 'rbf', 'linear', 'rbf', 'linear', 'rbf',\n",
       "                    'linear', 'rbf', 'linear', 'rbf', 'linear', 'rbf',\n",
       "                    'linear', 'rbf', 'linear', 'rbf', 'linear', 'rbf',\n",
       "                    'linear', 'rbf', 'linear', 'rbf', 'linear', 'rbf',\n",
       "                    'linear', 'rbf', 'linear', 'rbf', 'linear', 'rbf',\n",
       "                    'linear', 'rbf'],\n",
       "              mask=[False, False, False, False, False, False, False, False,\n",
       "                    False, False, False, False, False, False, False, False,\n",
       "                    False, False, False, False, False, False, False, False,\n",
       "                    False, False, False, False, False, False, False, False],\n",
       "        fill_value='?',\n",
       "             dtype=object),\n",
       " 'params': [{'C': 0.01, 'gamma': 0.01, 'kernel': 'linear'},\n",
       "  {'C': 0.01, 'gamma': 0.01, 'kernel': 'rbf'},\n",
       "  {'C': 0.01, 'gamma': 0.1, 'kernel': 'linear'},\n",
       "  {'C': 0.01, 'gamma': 0.1, 'kernel': 'rbf'},\n",
       "  {'C': 0.01, 'gamma': 1, 'kernel': 'linear'},\n",
       "  {'C': 0.01, 'gamma': 1, 'kernel': 'rbf'},\n",
       "  {'C': 0.01, 'gamma': 10, 'kernel': 'linear'},\n",
       "  {'C': 0.01, 'gamma': 10, 'kernel': 'rbf'},\n",
       "  {'C': 0.1, 'gamma': 0.01, 'kernel': 'linear'},\n",
       "  {'C': 0.1, 'gamma': 0.01, 'kernel': 'rbf'},\n",
       "  {'C': 0.1, 'gamma': 0.1, 'kernel': 'linear'},\n",
       "  {'C': 0.1, 'gamma': 0.1, 'kernel': 'rbf'},\n",
       "  {'C': 0.1, 'gamma': 1, 'kernel': 'linear'},\n",
       "  {'C': 0.1, 'gamma': 1, 'kernel': 'rbf'},\n",
       "  {'C': 0.1, 'gamma': 10, 'kernel': 'linear'},\n",
       "  {'C': 0.1, 'gamma': 10, 'kernel': 'rbf'},\n",
       "  {'C': 1, 'gamma': 0.01, 'kernel': 'linear'},\n",
       "  {'C': 1, 'gamma': 0.01, 'kernel': 'rbf'},\n",
       "  {'C': 1, 'gamma': 0.1, 'kernel': 'linear'},\n",
       "  {'C': 1, 'gamma': 0.1, 'kernel': 'rbf'},\n",
       "  {'C': 1, 'gamma': 1, 'kernel': 'linear'},\n",
       "  {'C': 1, 'gamma': 1, 'kernel': 'rbf'},\n",
       "  {'C': 1, 'gamma': 10, 'kernel': 'linear'},\n",
       "  {'C': 1, 'gamma': 10, 'kernel': 'rbf'},\n",
       "  {'C': 10, 'gamma': 0.01, 'kernel': 'linear'},\n",
       "  {'C': 10, 'gamma': 0.01, 'kernel': 'rbf'},\n",
       "  {'C': 10, 'gamma': 0.1, 'kernel': 'linear'},\n",
       "  {'C': 10, 'gamma': 0.1, 'kernel': 'rbf'},\n",
       "  {'C': 10, 'gamma': 1, 'kernel': 'linear'},\n",
       "  {'C': 10, 'gamma': 1, 'kernel': 'rbf'},\n",
       "  {'C': 10, 'gamma': 10, 'kernel': 'linear'},\n",
       "  {'C': 10, 'gamma': 10, 'kernel': 'rbf'}],\n",
       " 'split0_test_score': array([0.9       , 0.86666667, 0.9       , 0.9       , 0.9       ,\n",
       "        0.93333333, 0.9       , 0.76666667, 0.96666667, 0.86666667,\n",
       "        0.96666667, 0.9       , 0.96666667, 0.93333333, 0.96666667,\n",
       "        0.76666667, 0.96666667, 0.9       , 0.96666667, 0.96666667,\n",
       "        0.96666667, 0.96666667, 0.96666667, 1.        , 1.        ,\n",
       "        0.96666667, 1.        , 0.96666667, 1.        , 0.96666667,\n",
       "        1.        , 1.        ]),\n",
       " 'split1_test_score': array([0.96666667, 0.96666667, 0.96666667, 0.93333333, 0.96666667,\n",
       "        0.96666667, 0.96666667, 0.7       , 0.96666667, 0.96666667,\n",
       "        0.96666667, 0.93333333, 0.96666667, 0.96666667, 0.96666667,\n",
       "        0.7       , 1.        , 0.96666667, 1.        , 1.        ,\n",
       "        1.        , 1.        , 1.        , 0.9       , 1.        ,\n",
       "        1.        , 1.        , 1.        , 1.        , 0.96666667,\n",
       "        1.        , 0.9       ]),\n",
       " 'split2_test_score': array([0.86666667, 0.83333333, 0.86666667, 0.86666667, 0.86666667,\n",
       "        0.96666667, 0.86666667, 0.7       , 0.96666667, 0.83333333,\n",
       "        0.96666667, 0.9       , 0.96666667, 0.93333333, 0.96666667,\n",
       "        0.7       , 0.96666667, 0.86666667, 0.96666667, 0.96666667,\n",
       "        0.96666667, 0.9       , 0.96666667, 0.86666667, 0.9       ,\n",
       "        0.96666667, 0.9       , 0.96666667, 0.9       , 0.9       ,\n",
       "        0.9       , 0.86666667]),\n",
       " 'split3_test_score': array([0.96666667, 0.96666667, 0.96666667, 0.93333333, 0.96666667,\n",
       "        0.93333333, 0.96666667, 0.83333333, 0.96666667, 0.96666667,\n",
       "        0.96666667, 0.93333333, 0.96666667, 0.96666667, 0.96666667,\n",
       "        0.83333333, 0.96666667, 0.93333333, 0.96666667, 0.96666667,\n",
       "        0.96666667, 0.96666667, 0.96666667, 0.96666667, 0.96666667,\n",
       "        0.96666667, 0.96666667, 0.96666667, 0.96666667, 0.93333333,\n",
       "        0.96666667, 0.93333333]),\n",
       " 'split4_test_score': array([0.9       , 0.93333333, 0.9       , 0.93333333, 0.9       ,\n",
       "        1.        , 0.9       , 0.83333333, 1.        , 0.93333333,\n",
       "        1.        , 0.93333333, 1.        , 1.        , 1.        ,\n",
       "        0.83333333, 1.        , 1.        , 1.        , 1.        ,\n",
       "        1.        , 1.        , 1.        , 0.96666667, 1.        ,\n",
       "        1.        , 1.        , 1.        , 1.        , 1.        ,\n",
       "        1.        , 0.96666667]),\n",
       " 'mean_test_score': array([0.92      , 0.91333333, 0.92      , 0.91333333, 0.92      ,\n",
       "        0.96      , 0.92      , 0.76666667, 0.97333333, 0.91333333,\n",
       "        0.97333333, 0.92      , 0.97333333, 0.96      , 0.97333333,\n",
       "        0.76666667, 0.98      , 0.93333333, 0.98      , 0.98      ,\n",
       "        0.98      , 0.96666667, 0.98      , 0.94      , 0.97333333,\n",
       "        0.98      , 0.97333333, 0.98      , 0.97333333, 0.95333333,\n",
       "        0.97333333, 0.93333333]),\n",
       " 'std_test_score': array([0.04      , 0.05416026, 0.04      , 0.02666667, 0.04      ,\n",
       "        0.02494438, 0.04      , 0.05962848, 0.01333333, 0.05416026,\n",
       "        0.01333333, 0.01632993, 0.01333333, 0.02494438, 0.01333333,\n",
       "        0.05962848, 0.01632993, 0.04714045, 0.01632993, 0.01632993,\n",
       "        0.01632993, 0.03651484, 0.01632993, 0.04898979, 0.03887301,\n",
       "        0.01632993, 0.03887301, 0.01632993, 0.03887301, 0.03399346,\n",
       "        0.03887301, 0.04714045]),\n",
       " 'rank_test_score': array([23, 28, 23, 28, 23, 17, 23, 31,  8, 28,  8, 23,  8, 17,  8, 31,  1,\n",
       "        21,  1,  1,  1, 16,  1, 20,  8,  1,  8,  1,  8, 19,  8, 21]),\n",
       " 'split0_train_score': array([0.9       , 0.925     , 0.9       , 0.925     , 0.9       ,\n",
       "        0.975     , 0.9       , 0.875     , 0.975     , 0.925     ,\n",
       "        0.975     , 0.95      , 0.975     , 0.975     , 0.975     ,\n",
       "        0.875     , 0.975     , 0.95833333, 0.975     , 0.975     ,\n",
       "        0.975     , 0.975     , 0.975     , 1.        , 0.96666667,\n",
       "        0.975     , 0.96666667, 0.975     , 0.96666667, 0.975     ,\n",
       "        0.96666667, 1.        ]),\n",
       " 'split1_train_score': array([0.925     , 0.91666667, 0.925     , 0.94166667, 0.925     ,\n",
       "        0.95833333, 0.925     , 0.90833333, 0.95      , 0.91666667,\n",
       "        0.95      , 0.94166667, 0.95      , 0.95833333, 0.95      ,\n",
       "        0.90833333, 0.975     , 0.93333333, 0.975     , 0.95833333,\n",
       "        0.975     , 0.98333333, 0.975     , 1.        , 0.96666667,\n",
       "        0.975     , 0.96666667, 0.98333333, 0.96666667, 0.98333333,\n",
       "        0.96666667, 1.        ]),\n",
       " 'split2_train_score': array([0.95833333, 0.93333333, 0.95833333, 0.94166667, 0.95833333,\n",
       "        0.96666667, 0.95833333, 0.88333333, 0.98333333, 0.93333333,\n",
       "        0.98333333, 0.95833333, 0.98333333, 0.98333333, 0.98333333,\n",
       "        0.88333333, 0.99166667, 0.96666667, 0.99166667, 0.975     ,\n",
       "        0.99166667, 0.99166667, 0.99166667, 1.        , 0.99166667,\n",
       "        0.98333333, 0.99166667, 0.99166667, 0.99166667, 0.99166667,\n",
       "        0.99166667, 1.        ]),\n",
       " 'split3_train_score': array([0.94166667, 0.925     , 0.94166667, 0.94166667, 0.94166667,\n",
       "        0.96666667, 0.94166667, 0.9       , 0.975     , 0.925     ,\n",
       "        0.975     , 0.94166667, 0.975     , 0.975     , 0.975     ,\n",
       "        0.9       , 0.98333333, 0.95      , 0.98333333, 1.        ,\n",
       "        0.98333333, 0.99166667, 0.98333333, 1.        , 0.99166667,\n",
       "        0.98333333, 0.99166667, 0.99166667, 0.99166667, 0.99166667,\n",
       "        0.99166667, 1.        ]),\n",
       " 'split4_train_score': array([0.90833333, 0.9       , 0.90833333, 0.9       , 0.90833333,\n",
       "        0.94166667, 0.90833333, 0.9       , 0.93333333, 0.9       ,\n",
       "        0.93333333, 0.90833333, 0.93333333, 0.95      , 0.93333333,\n",
       "        0.9       , 0.98333333, 0.91666667, 0.98333333, 0.95833333,\n",
       "        0.98333333, 0.99166667, 0.98333333, 1.        , 0.975     ,\n",
       "        0.95833333, 0.975     , 0.98333333, 0.975     , 0.98333333,\n",
       "        0.975     , 1.        ]),\n",
       " 'mean_train_score': array([0.92666667, 0.92      , 0.92666667, 0.93      , 0.92666667,\n",
       "        0.96166667, 0.92666667, 0.89333333, 0.96333333, 0.92      ,\n",
       "        0.96333333, 0.94      , 0.96333333, 0.96833333, 0.96333333,\n",
       "        0.89333333, 0.98166667, 0.945     , 0.98166667, 0.97333333,\n",
       "        0.98166667, 0.98666667, 0.98166667, 1.        , 0.97833333,\n",
       "        0.975     , 0.97833333, 0.985     , 0.97833333, 0.985     ,\n",
       "        0.97833333, 1.        ]),\n",
       " 'std_train_score': array([0.02134375, 0.01130388, 0.02134375, 0.01632993, 0.02134375,\n",
       "        0.01130388, 0.02134375, 0.01224745, 0.01870829, 0.01130388,\n",
       "        0.01870829, 0.01699673, 0.01870829, 0.01224745, 0.01870829,\n",
       "        0.01224745, 0.0062361 , 0.01795055, 0.0062361 , 0.01527525,\n",
       "        0.0062361 , 0.00666667, 0.0062361 , 0.        , 0.01130388,\n",
       "        0.00912871, 0.01130388, 0.0062361 , 0.01130388, 0.0062361 ,\n",
       "        0.01130388, 0.        ])}"
      ]
     },
     "execution_count": 9,
     "metadata": {},
     "output_type": "execute_result"
    }
   ],
   "source": [
    "best_model.cv_results_"
   ]
  },
  {
   "cell_type": "code",
   "execution_count": null,
   "metadata": {
    "collapsed": true
   },
   "outputs": [],
   "source": []
  }
 ],
 "metadata": {
  "kernelspec": {
   "display_name": "Python 3",
   "language": "python",
   "name": "python3"
  },
  "language_info": {
   "codemirror_mode": {
    "name": "ipython",
    "version": 3
   },
   "file_extension": ".py",
   "mimetype": "text/x-python",
   "name": "python",
   "nbconvert_exporter": "python",
   "pygments_lexer": "ipython3",
   "version": "3.6.5"
  }
 },
 "nbformat": 4,
 "nbformat_minor": 2
}
