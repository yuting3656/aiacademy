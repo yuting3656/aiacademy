{
 "cells": [
  {
   "cell_type": "markdown",
   "metadata": {
    "colab_type": "text",
    "id": "7J6-voIxPg20"
   },
   "source": [
    "## 配合課程影片 hmwu_StatR-03.1\n",
    "### Exercise 3-1"
   ]
  },
  {
   "cell_type": "markdown",
   "metadata": {
    "colab_type": "text",
    "id": "FD8F-XObPg22"
   },
   "source": [
    "## 信賴區間實作"
   ]
  },
  {
   "cell_type": "code",
   "execution_count": 0,
   "metadata": {
    "colab": {},
    "colab_type": "code",
    "id": "yZb7JLNrPg23"
   },
   "outputs": [],
   "source": [
    "import scipy.stats as stats\n",
    "import matplotlib.pyplot as plt\n",
    "import pandas as pd\n",
    "import numpy as np\n",
    "%matplotlib inline"
   ]
  },
  {
   "cell_type": "code",
   "execution_count": 0,
   "metadata": {
    "colab": {},
    "colab_type": "code",
    "id": "jWQq1C5DPg26",
    "outputId": "80e0a0fc-bcb9-43f4-8416-8f102d5c6e60"
   },
   "outputs": [
    {
     "data": {
      "text/plain": [
       "[19.632028812367956, 22.767971187632043]"
      ]
     },
     "execution_count": 2,
     "metadata": {
      "tags": []
     },
     "output_type": "execute_result"
    }
   ],
   "source": [
    "# 估計 95% 信心水準下，老年人每星期看電視平均時間的信賴區間？\n",
    "# alpha = 0.05 \n",
    "# 假設樣本平均時間的抽樣分配服從常態分佈: xbar ~ N(mu_xbar, sigma_xbar)\n",
    "# 抽樣人數 n = 100 ; 樣本平均時間 xbar = 21.2 小時\n",
    "# 母體看電視時間的標準差 sigma = 8 小時\n",
    "\n",
    "def Interval_estimation(n, xbar, sigma, alpha):\n",
    "    # standard error of the mean:\n",
    "    se = sigma / np.sqrt(n)\n",
    "    \n",
    "    # margin of error:\n",
    "    # Hint: Z_(0.05/2) for Two-tails\n",
    "    E = stats.norm.ppf(1 - alpha/2, loc = 0, scale = 1) * se\n",
    "    \n",
    "    # (1 - alpha)% Confidence Interval of Population mean with Known Variance:\n",
    "    Interval = [xbar - E, xbar + E]\n",
    "    \n",
    "    return Interval\n",
    "\n",
    "Interval_estimation(n = 100, xbar = 21.2, sigma = 8, alpha = 0.05)\n"
   ]
  },
  {
   "cell_type": "markdown",
   "metadata": {
    "colab_type": "text",
    "id": "a9c-rB4APg2-"
   },
   "source": [
    "### 延伸挑戰題：母體標準差未知的區間估計"
   ]
  },
  {
   "cell_type": "code",
   "execution_count": 0,
   "metadata": {
    "colab": {},
    "colab_type": "code",
    "id": "KAbOxXu8Pg2_",
    "outputId": "8fd9a32a-eac5-435a-8c13-a0a9183795ca"
   },
   "outputs": [
    {
     "data": {
      "text/plain": [
       "[19.612626438793054, 22.787373561206945]"
      ]
     },
     "execution_count": 3,
     "metadata": {
      "tags": []
     },
     "output_type": "execute_result"
    }
   ],
   "source": [
    "# 改為樣本看電視時間的標準差 std = 8 小時，其餘條件與前一題一樣\n",
    "def Interval_estimation(n, xbar, sigma, alpha):\n",
    "    # standard error of the mean:\n",
    "    se = sigma / np.sqrt(n)\n",
    "    \n",
    "    # margin of error:\n",
    "    # Hint: T_(0.05/2, n-1) for Two-tails\n",
    "    E = stats.t.ppf(1 - alpha/2, df = n - 1) * se\n",
    "    \n",
    "    # (1 - alpha)% Confidence Interval of Population mean with Known Variance:\n",
    "    Interval = [xbar - E, xbar + E]\n",
    "    \n",
    "    return Interval\n",
    "\n",
    "Interval_estimation(n = 100, xbar = 21.2, sigma = 8, alpha = 0.05)"
   ]
  },
  {
   "cell_type": "code",
   "execution_count": 0,
   "metadata": {
    "colab": {},
    "colab_type": "code",
    "id": "Pr2LZfHFPg3C"
   },
   "outputs": [],
   "source": []
  }
 ],
 "metadata": {
  "colab": {
   "name": "AI_hmw_StatPython_3-1.ipynb",
   "provenance": [],
   "version": "0.3.2"
  },
  "kernelspec": {
   "display_name": "Python 3",
   "language": "python",
   "name": "python3"
  },
  "language_info": {
   "codemirror_mode": {
    "name": "ipython",
    "version": 3
   },
   "file_extension": ".py",
   "mimetype": "text/x-python",
   "name": "python",
   "nbconvert_exporter": "python",
   "pygments_lexer": "ipython3",
   "version": "3.7.0"
  }
 },
 "nbformat": 4,
 "nbformat_minor": 1
}
