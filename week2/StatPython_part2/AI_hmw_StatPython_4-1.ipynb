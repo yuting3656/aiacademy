{
 "cells": [
  {
   "cell_type": "markdown",
   "metadata": {},
   "source": [
    "# 配合課程影片 hmwu_StatR-04.1\n",
    "# Exercise 4-1"
   ]
  },
  {
   "cell_type": "code",
   "execution_count": 1,
   "metadata": {},
   "outputs": [],
   "source": [
    "from sklearn import datasets\n",
    "from scipy import stats\n",
    "import pandas as pd"
   ]
  },
  {
   "cell_type": "code",
   "execution_count": 2,
   "metadata": {},
   "outputs": [
    {
     "name": "stdout",
     "output_type": "stream",
     "text": [
      "['sepal length (cm)', 'sepal width (cm)', 'petal length (cm)', 'petal width (cm)']\n"
     ]
    }
   ],
   "source": [
    "#load dataset\n",
    "iris = datasets.load_iris()\n",
    "iris_data = iris.data\n",
    "print(iris.feature_names)"
   ]
  },
  {
   "cell_type": "code",
   "execution_count": 3,
   "metadata": {},
   "outputs": [],
   "source": [
    "# x = sepal length (cm)\n",
    "# y = petal length (cm)\n",
    "x = iris_data[:, 0]\n",
    "y = iris_data[:, 2]\n",
    "alpha = 0.05"
   ]
  },
  {
   "cell_type": "code",
   "execution_count": 4,
   "metadata": {},
   "outputs": [],
   "source": [
    "def f_test(x, y):\n",
    "    F = x.var() / y.var()\n",
    "    df1 = len(x) - 1\n",
    "    df2 = len(y) - 1\n",
    "    p_value = stats.f.cdf(F, df1, df2)\n",
    "    \n",
    "    return p_value"
   ]
  },
  {
   "cell_type": "code",
   "execution_count": 5,
   "metadata": {},
   "outputs": [
    {
     "name": "stdout",
     "output_type": "stream",
     "text": [
      "True\n"
     ]
    }
   ],
   "source": [
    "# 請檢定 iris dataset 中 Sepal Length 與 Petal Length 的變異數是否顯著不同：\n",
    "# Hint: 藉由比較顯著水準 alpha 和 F test 的 p.value\n",
    "# vt 為顯著相異的邏輯結果（TRUE / FALSE）\n",
    "vt = (f_test(x, y) <= alpha)\n",
    "print(vt)"
   ]
  },
  {
   "cell_type": "code",
   "execution_count": 6,
   "metadata": {},
   "outputs": [
    {
     "name": "stdout",
     "output_type": "stream",
     "text": [
      "True\n"
     ]
    }
   ],
   "source": [
    "# 請檢定兩組樣本的平均數是否顯著不同：\n",
    "# Hint: Welch T-test (variance not equal)\n",
    "statistic, pvalue = stats.ttest_ind(x, y, equal_var = ~vt)\n",
    "print(pvalue <= alpha/2)"
   ]
  },
  {
   "cell_type": "markdown",
   "metadata": {},
   "source": [
    "# 延伸挑戰題："
   ]
  },
  {
   "cell_type": "code",
   "execution_count": 7,
   "metadata": {},
   "outputs": [],
   "source": [
    "# T檢定：檢定不同品種花瓣(sepal width)的平均寬度是否不同\n",
    "# myData <- data.frame(value = iris$Sepal.Width[-(1:50)], group <- iris[-(1:50), 5])\n",
    "myData = pd.DataFrame(data = {'Sepal Width': iris_data[50:, 1], 'Classes': iris.target[50:]})\n",
    "alpha = 0.05"
   ]
  },
  {
   "cell_type": "code",
   "execution_count": 8,
   "metadata": {},
   "outputs": [
    {
     "name": "stdout",
     "output_type": "stream",
     "text": [
      "False\n"
     ]
    }
   ],
   "source": [
    "# 請檢定 iris dataset 中 2, 3種品種的變異數是否顯著不同：\n",
    "# Hint: 藉由比較顯著水準 alpha 和 Bartlett test 的 p.value\n",
    "# bt 為顯著相異的邏輯結果（TRUE / FALSE）\n",
    "statistic, pvalue = stats.bartlett(myData[myData['Classes']==1].values[:,0], myData[myData['Classes']==2].values[:,0])\n",
    "bt = (pvalue <= alpha)\n",
    "print(bt)"
   ]
  },
  {
   "cell_type": "code",
   "execution_count": 9,
   "metadata": {},
   "outputs": [
    {
     "name": "stdout",
     "output_type": "stream",
     "text": [
      "True\n"
     ]
    }
   ],
   "source": [
    "# 請檢定兩組樣本的平均數是否顯著不同：\n",
    "# Hint: 2 sample T-test (variance not equal)\n",
    "statistic, pvalue = stats.ttest_ind(myData[myData['Classes']==1].values[:,0], myData[myData['Classes']==2].values[:,0], equal_var = ~bt)\n",
    "print(pvalue <= alpha/2)"
   ]
  }
 ],
 "metadata": {
  "kernelspec": {
   "display_name": "Python 3",
   "language": "python",
   "name": "python3"
  },
  "language_info": {
   "codemirror_mode": {
    "name": "ipython",
    "version": 3
   },
   "file_extension": ".py",
   "mimetype": "text/x-python",
   "name": "python",
   "nbconvert_exporter": "python",
   "pygments_lexer": "ipython3",
   "version": "3.6.6"
  }
 },
 "nbformat": 4,
 "nbformat_minor": 2
}
