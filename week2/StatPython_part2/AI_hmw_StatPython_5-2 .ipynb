{
 "cells": [
  {
   "cell_type": "markdown",
   "metadata": {},
   "source": [
    "### 配合課程影片 hmwu_StatR-05.2\n",
    "### Exercise 5-2"
   ]
  },
  {
   "cell_type": "code",
   "execution_count": 1,
   "metadata": {
    "collapsed": true
   },
   "outputs": [],
   "source": [
    "import matplotlib.pyplot as plt\n",
    "%matplotlib inline\n",
    "from sklearn import datasets\n",
    "import numpy as np\n",
    "import pylab\n",
    "import scipy.stats as stats\n",
    "import pandas as pd"
   ]
  },
  {
   "cell_type": "code",
   "execution_count": 2,
   "metadata": {},
   "outputs": [
    {
     "data": {
      "image/png": "[encoded data removed]",
      "text/plain": [
       "<Figure size 432x288 with 1 Axes>"
      ]
     },
     "metadata": {},
     "output_type": "display_data"
    }
   ],
   "source": [
    "# 14/19\n",
    "# 常態分佈檢定\n",
    "# 請以常態機率圖檢定 iris$Sepal.Width 是否服從常態分配：\n",
    "\n",
    "# par(mfrow = c(1, 2))\n",
    "# hist(iris$Sepal.Width)\n",
    "# qqnorm(iris$Sepal.Width)\n",
    "# qqline(iris$Sepal.Width, col = \"red\")\n",
    "\n",
    "iris = datasets.load_iris()\n",
    "X = iris.data[:, 1:2]\n",
    "x=[]\n",
    "for i in range(len(X)):\n",
    "    x.extend(X[i])\n",
    "\n",
    "plt.title(\"Histogram of iris$Sepal.Width\")\n",
    "plt.xlabel('iris$Sepal.Width')\n",
    "plt.ylabel('frequency')\n",
    "    \n",
    "plt.hist(x, bins = 12)\n",
    "plt.show()\n",
    "\n"
   ]
  },
  {
   "cell_type": "code",
   "execution_count": 3,
   "metadata": {},
   "outputs": [
    {
     "data": {
      "image/png": "[encoded data removed]",
      "text/plain": [
       "<Figure size 432x288 with 1 Axes>"
      ]
     },
     "metadata": {},
     "output_type": "display_data"
    }
   ],
   "source": [
    "stats.probplot(x, dist = \"norm\", plot = pylab)\n",
    "plt.show()"
   ]
  },
  {
   "cell_type": "code",
   "execution_count": 4,
   "metadata": {},
   "outputs": [
    {
     "data": {
      "text/plain": [
       "KstestResult(statistic=0.10583307189330171, pvalue=0.0644929989865557)"
      ]
     },
     "execution_count": 4,
     "metadata": {},
     "output_type": "execute_result"
    }
   ],
   "source": [
    "# 15/19\n",
    "# 請以 One-sample Kolmogorov-Smirnov test 檢定 iris$Sepal.Width 是否服從常態分配：\n",
    "# Hint: 用樣本累計頻率分佈 x 與理論累積分佈 y 的差距，藉以判定是否服從特定分配\n",
    "# Hint: 需以樣本提供欲檢定理論累積分佈 y 的待估參數：N(mean, sd)\n",
    "\n",
    "stats.kstest(x, 'norm', args = (np.mean(x), np.std(x)))\n",
    "\n"
   ]
  },
  {
   "cell_type": "code",
   "execution_count": 5,
   "metadata": {},
   "outputs": [
    {
     "data": {
      "text/plain": [
       "AndersonResult(statistic=1.6973980722535202, critical_values=array([0.466, 0.627, 0.745, 0.863, 1.021]), significance_level=array([25. , 10. ,  5. ,  2.5,  1. ]))"
      ]
     },
     "execution_count": 5,
     "metadata": {},
     "output_type": "execute_result"
    }
   ],
   "source": [
    "stats.anderson(x, 'gumbel_r')\n",
    "\n",
    "#dist : {‘norm’, ’expon’, ’logistic’, ’gumbel’, ’gumbel_l’, gumbel_r’, ‘extreme1’}, \n",
    "\n",
    "#print stats.shapiro(x)\n"
   ]
  },
  {
   "cell_type": "code",
   "execution_count": 6,
   "metadata": {},
   "outputs": [
    {
     "name": "stdout",
     "output_type": "stream",
     "text": [
      "(30.070149095754672, 2.9535891832117595e-07, 2, array([[703.67138194, 319.64526659, 533.68335147],\n",
      "       [542.32861806, 246.35473341, 411.31664853]]))\n"
     ]
    }
   ],
   "source": [
    "# 19/19\n",
    "# 請以卡方獨立性檢定觀察兩個類別變數（性別、政黨）的相關性：\n",
    "# Hint: 卡方獨立性檢定需根據關係列聯表 M (Contingency table)做計算\n",
    "\n",
    "from scipy.stats import chi2_contingency\n",
    "\n",
    "df = pd.DataFrame(data = [[762, 327, 468], [484, 239, 477]], columns = ['Democrat', 'Independent', 'Republican'])\n",
    "df = df.rename(index = {0:'F', 1:'M'})\n",
    "\n",
    "print (chi2_contingency(df))"
   ]
  },
  {
   "cell_type": "code",
   "execution_count": null,
   "metadata": {
    "collapsed": true
   },
   "outputs": [],
   "source": []
  }
 ],
 "metadata": {
  "kernelspec": {
   "display_name": "Python 3",
   "language": "python",
   "name": "python3"
  },
  "language_info": {
   "codemirror_mode": {
    "name": "ipython",
    "version": 3
   },
   "file_extension": ".py",
   "mimetype": "text/x-python",
   "name": "python",
   "nbconvert_exporter": "python",
   "pygments_lexer": "ipython3",
   "version": "3.6.4"
  }
 },
 "nbformat": 4,
 "nbformat_minor": 2
}
