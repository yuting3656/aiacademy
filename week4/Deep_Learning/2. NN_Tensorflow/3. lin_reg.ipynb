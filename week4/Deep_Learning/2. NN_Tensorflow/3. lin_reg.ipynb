{
 "cells": [
  {
   "cell_type": "markdown",
   "metadata": {},
   "source": [
    "# A linear regression example\n",
    "$ y = wx + b$ <br>\n",
    "$w=3, \\, b=10 $\n"
   ]
  },
  {
   "cell_type": "code",
   "execution_count": null,
   "metadata": {
    "scrolled": true
   },
   "outputs": [],
   "source": [
    "import numpy as np\n",
    "import tensorflow as tf\n",
    "import matplotlib.pyplot as plt\n",
    "from pprint import pprint"
   ]
  },
  {
   "cell_type": "code",
   "execution_count": null,
   "metadata": {},
   "outputs": [],
   "source": [
    "# --------------------------------generate data-------------------------------------\n",
    "x_in = np.linspace(0, 1, 100)\n",
    "y_true = 3*x_in + 10 + np.random.rand(len(x_in))\n",
    "\n",
    "plt.plot(x_in, y_true, 'b.')\n",
    "plt.title('$ y = 3x + 10 + \\epsilon$')\n",
    "plt.show()"
   ]
  },
  {
   "cell_type": "markdown",
   "metadata": {},
   "source": [
    "\n",
    "\n",
    "\n",
    "### $ (1)\\; \\hat y_i = wx_i + b $\n",
    "### $ (2)\\; MSE = \\frac{1}{n} \\sum_{i=1}^n (\\hat y_i - y_i)^2 $"
   ]
  },
  {
   "cell_type": "markdown",
   "metadata": {},
   "source": [
    "## Three steps for training\n",
    "1. Build the network\n",
    "2. Compute the loss\n",
    "3. Minimize the loss by using gradient descent"
   ]
  },
  {
   "cell_type": "code",
   "execution_count": null,
   "metadata": {},
   "outputs": [],
   "source": [
    "# step 1\n",
    "inputs = tf.placeholder(dtype=tf.float32, shape=[100], name='X')\n",
    "y_label = tf.placeholder(dtype=tf.float32, shape=[100], name='label')\n",
    "\n",
    "w1 = tf.Variable([0.5], dtype=tf.float32, name='weight')\n",
    "b1 = tf.Variable([0.0], dtype=tf.float32, name='bias') \n",
    "y_pred = tf.add(tf.multiply(w1, inputs), b1, name='y_pred')  # y = w1*input + b1 --- (1)\n",
    "\n",
    "# step 2\n",
    "loss = tf.reduce_mean(tf.square(y_pred - y_label), name='mse')  # loss is a scaler. --- (2)\n",
    "\n",
    "# step 3\n",
    "optim = tf.train.GradientDescentOptimizer(learning_rate=0.1) \n",
    "train_ops = optim.minimize(loss)\n",
    "\n",
    "init = tf.global_variables_initializer()"
   ]
  },
  {
   "cell_type": "markdown",
   "metadata": {},
   "source": [
    "![title](pics/ex3-1.PNG)"
   ]
  },
  {
   "cell_type": "code",
   "execution_count": null,
   "metadata": {},
   "outputs": [],
   "source": [
    "y_pred"
   ]
  },
  {
   "cell_type": "code",
   "execution_count": null,
   "metadata": {},
   "outputs": [],
   "source": [
    "pprint(tf.global_variables())"
   ]
  },
  {
   "cell_type": "code",
   "execution_count": null,
   "metadata": {},
   "outputs": [],
   "source": [
    "## train the model\n",
    "sess = tf.Session()\n",
    "print(\"-----start training-----\")\n",
    "sess.run(init)\n",
    "\n",
    "for step in np.arange(500):\n",
    "    sess.run(train_ops, feed_dict={inputs: x_in, y_label: y_true})  # update variables\n",
    "    if step%25 == 0:\n",
    "        print('step: {:3d}, weight: {:.3f}, bias: {:.3f}'.format(step, sess.run(w1)[0], sess.run(b1)[0]))\n",
    "               \n",
    "y_out = sess.run(y_pred, feed_dict={inputs: x_in})"
   ]
  },
  {
   "cell_type": "code",
   "execution_count": null,
   "metadata": {},
   "outputs": [],
   "source": [
    "plt.plot(x_in, y_true, 'b.', label='True')\n",
    "plt.plot(x_in, y_out, 'r.', label='Predicted')\n",
    "plt.legend()\n",
    "plt.show()\n",
    "\n",
    "sess.close()"
   ]
  },
  {
   "cell_type": "markdown",
   "metadata": {},
   "source": [
    "![title](pics/ex3-2.PNG)"
   ]
  },
  {
   "cell_type": "markdown",
   "metadata": {},
   "source": [
    "# Practice\n",
    "$ y = w_1x^2 + w_2x + b$ <br>\n",
    "$ w_1=6, \\, w_2=-4, \\, b=1 $"
   ]
  },
  {
   "cell_type": "code",
   "execution_count": null,
   "metadata": {},
   "outputs": [],
   "source": [
    "x_in = np.linspace(-1, 1, 200)\n",
    "y_true = 6*x_in**2 - 4*x_in + 1 + np.random.rand(len(x_in))*2\n",
    "\n",
    "plt.plot(x_in, y_true, 'b.')\n",
    "plt.show()"
   ]
  },
  {
   "cell_type": "code",
   "execution_count": null,
   "metadata": {},
   "outputs": [],
   "source": []
  }
 ],
 "metadata": {
  "kernelspec": {
   "display_name": "Python 3",
   "language": "python",
   "name": "python3"
  },
  "language_info": {
   "codemirror_mode": {
    "name": "ipython",
    "version": 3
   },
   "file_extension": ".py",
   "mimetype": "text/x-python",
   "name": "python",
   "nbconvert_exporter": "python",
   "pygments_lexer": "ipython3",
   "version": "3.6.6"
  }
 },
 "nbformat": 4,
 "nbformat_minor": 2
}
