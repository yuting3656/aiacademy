{
 "cells": [
  {
   "cell_type": "markdown",
   "metadata": {},
   "source": [
    "# How to save/load your model\n",
    "1. load the weights\n",
    "2. load the graph"
   ]
  },
  {
   "cell_type": "code",
   "execution_count": null,
   "metadata": {},
   "outputs": [],
   "source": [
    "import numpy as np\n",
    "import tensorflow as tf\n",
    "from pprint import pprint"
   ]
  },
  {
   "cell_type": "code",
   "execution_count": null,
   "metadata": {},
   "outputs": [],
   "source": [
    "tf.reset_default_graph()\n",
    "\n",
    "x = tf.placeholder(tf.float32, shape=[None, 4], name='Input')\n",
    "y = tf.placeholder(tf.float32, shape=[None, 1], name='Output')\n",
    "\n",
    "h1 = tf.layers.dense(x, units=10, activation=tf.nn.relu, name='hidden1')\n",
    "y_pred = tf.layers.dense(h1, units=1, name='output')\n",
    "\n",
    "loss = tf.reduce_mean(tf.nn.sigmoid_cross_entropy_with_logits(labels=y, logits=y_pred), name='loss')\n",
    "\n",
    "train_op = tf.train.GradientDescentOptimizer(0.1).minimize(loss)\n",
    "init = tf.global_variables_initializer()\n",
    "\n",
    "saver = tf.train.Saver()\n",
    "\n",
    "pprint(tf.global_variables())"
   ]
  },
  {
   "cell_type": "code",
   "execution_count": null,
   "metadata": {},
   "outputs": [],
   "source": [
    "sess = tf.Session()\n",
    "sess.run(init)"
   ]
  },
  {
   "cell_type": "code",
   "execution_count": null,
   "metadata": {},
   "outputs": [],
   "source": [
    "X_train = np.tile(np.array([1, 2, 3]).reshape(-1, 1), 4)\n",
    "y_train = np.array([1, 1, 0]).reshape(-1, 1)\n",
    "\n",
    "print('X:')\n",
    "print(X_train)\n",
    "print('y:')\n",
    "print(y_train)"
   ]
  },
  {
   "cell_type": "code",
   "execution_count": null,
   "metadata": {},
   "outputs": [],
   "source": [
    "print('before training:')\n",
    "print('predict: ', sess.run(tf.nn.sigmoid(y_pred), feed_dict={x: X_train}))\n",
    "print('loss: ', sess.run(loss, feed_dict={x: X_train, y:y_train}))\n",
    "\n",
    "for i in range(1000):\n",
    "    sess.run(train_op, feed_dict={x: X_train, y:y_train})\n",
    "\n",
    "print('')\n",
    "print('after training:')\n",
    "print('predict: ', sess.run(tf.nn.sigmoid(y_pred), feed_dict={x: X_train}))\n",
    "print('loss: ', sess.run(loss, feed_dict={x: X_train, y:y_train}))"
   ]
  },
  {
   "cell_type": "code",
   "execution_count": null,
   "metadata": {},
   "outputs": [],
   "source": [
    "saver.save(sess, \"./save_model/checkpoint_weight.ckpt\")  # save the model\n",
    "sess.close()"
   ]
  },
  {
   "cell_type": "markdown",
   "metadata": {},
   "source": [
    "## 1. load the weights\n",
    "#### You have to rewrite the graph."
   ]
  },
  {
   "cell_type": "code",
   "execution_count": null,
   "metadata": {},
   "outputs": [],
   "source": [
    "tf.reset_default_graph()\n",
    "\n",
    "x = tf.placeholder(tf.float32, shape=[None, 4], name='Input')\n",
    "y = tf.placeholder(tf.float32, shape=[None, 1], name='Output')\n",
    "\n",
    "h1 = tf.layers.dense(x, units=10, activation=tf.nn.relu, name='hidden1')\n",
    "y_pred = tf.layers.dense(h1, units=1, name='output')\n",
    "\n",
    "loss = tf.reduce_mean(tf.nn.sigmoid_cross_entropy_with_logits(labels=y, logits=y_pred), name='loss')\n",
    "\n",
    "train_op = tf.train.GradientDescentOptimizer(0.1).minimize(loss)\n",
    "\n",
    "saver = tf.train.Saver()"
   ]
  },
  {
   "cell_type": "code",
   "execution_count": null,
   "metadata": {},
   "outputs": [],
   "source": [
    "sess = tf.Session()\n",
    "saver.restore(sess, \"./save_model/checkpoint_weight.ckpt\")"
   ]
  },
  {
   "cell_type": "code",
   "execution_count": null,
   "metadata": {},
   "outputs": [],
   "source": [
    "X_train = np.tile(np.array([1, 2, 3]).reshape(-1, 1), 4)\n",
    "y_train = np.array([1, 1, 0]).reshape(-1, 1)\n",
    "\n",
    "print('predict: ', sess.run(tf.nn.sigmoid(y_pred), feed_dict={x: X_train}))\n",
    "print('loss: ', sess.run(loss, feed_dict={x: X_train, y:y_train}))"
   ]
  },
  {
   "cell_type": "code",
   "execution_count": null,
   "metadata": {},
   "outputs": [],
   "source": [
    "sess.close()"
   ]
  },
  {
   "cell_type": "markdown",
   "metadata": {},
   "source": [
    "## 2. load the graph\n",
    "#### You have to keep tensors' names."
   ]
  },
  {
   "cell_type": "code",
   "execution_count": null,
   "metadata": {},
   "outputs": [],
   "source": [
    "sess = tf.Session()\n",
    "\n",
    "loader = tf.train.import_meta_graph(\"./save_model/checkpoint_weight.ckpt\" + '.meta')\n",
    "loader.restore(sess, \"./save_model/checkpoint_weight.ckpt\")\n",
    "\n",
    "pprint(tf.global_variables())"
   ]
  },
  {
   "cell_type": "code",
   "execution_count": null,
   "metadata": {},
   "outputs": [],
   "source": [
    "X_train = np.tile(np.array([1, 2, 3]).reshape(-1, 1), 4)\n",
    "y_train = np.array([1, 1, 0]).reshape(-1, 1)\n",
    "\n",
    "x = sess.graph.get_tensor_by_name('Input:0')\n",
    "y = sess.graph.get_tensor_by_name('Output:0')\n",
    "y_pred = sess.graph.get_tensor_by_name('output_1/BiasAdd:0')\n",
    "loss = sess.graph.get_tensor_by_name('loss:0')\n",
    "\n",
    "print('predict: ', sess.run(tf.nn.sigmoid(y_pred), feed_dict={x: X_train}))\n",
    "print('loss: ', sess.run(loss, feed_dict={x: X_train, y:y_train}))"
   ]
  },
  {
   "cell_type": "code",
   "execution_count": null,
   "metadata": {},
   "outputs": [],
   "source": [
    "sess.close()"
   ]
  },
  {
   "cell_type": "code",
   "execution_count": null,
   "metadata": {},
   "outputs": [],
   "source": []
  }
 ],
 "metadata": {
  "kernelspec": {
   "display_name": "Python 3",
   "language": "python",
   "name": "python3"
  },
  "language_info": {
   "codemirror_mode": {
    "name": "ipython",
    "version": 3
   },
   "file_extension": ".py",
   "mimetype": "text/x-python",
   "name": "python",
   "nbconvert_exporter": "python",
   "pygments_lexer": "ipython3",
   "version": "3.6.6"
  }
 },
 "nbformat": 4,
 "nbformat_minor": 2
}
